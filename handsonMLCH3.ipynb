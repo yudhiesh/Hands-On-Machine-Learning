{
  "nbformat": 4,
  "nbformat_minor": 0,
  "metadata": {
    "colab": {
      "name": "handsonMLCH3",
      "provenance": [],
      "collapsed_sections": [],
      "machine_shape": "hm",
      "authorship_tag": "ABX9TyPagUk+tzGZFlsyLuuYGVKc",
      "include_colab_link": true
    },
    "kernelspec": {
      "name": "python3",
      "display_name": "Python 3"
    },
    "accelerator": "TPU"
  },
  "cells": [
    {
      "cell_type": "markdown",
      "metadata": {
        "id": "view-in-github",
        "colab_type": "text"
      },
      "source": [
        "<a href=\"https://colab.research.google.com/github/yudhiesh1997/Hands-On-Machine-Learning/blob/master/handsonMLCH3.ipynb\" target=\"_parent\"><img src=\"https://colab.research.google.com/assets/colab-badge.svg\" alt=\"Open In Colab\"/></a>"
      ]
    },
    {
      "cell_type": "code",
      "metadata": {
        "id": "ZNxJ6wmYEpeW",
        "colab_type": "code",
        "colab": {
          "base_uri": "https://localhost:8080/",
          "height": 34
        },
        "outputId": "23aeff64-3a0b-4c87-9692-303402db0595"
      },
      "source": [
        "from sklearn.datasets import fetch_openml\n",
        "mnist = fetch_openml(\"mnist_784\", version=1)\n",
        "mnist.keys()"
      ],
      "execution_count": 1,
      "outputs": [
        {
          "output_type": "execute_result",
          "data": {
            "text/plain": [
              "dict_keys(['data', 'target', 'frame', 'feature_names', 'target_names', 'DESCR', 'details', 'categories', 'url'])"
            ]
          },
          "metadata": {
            "tags": []
          },
          "execution_count": 1
        }
      ]
    },
    {
      "cell_type": "markdown",
      "metadata": {
        "id": "3Ufwe2sgI-6z",
        "colab_type": "text"
      },
      "source": [
        "**DESCR** to describe the dataset \n",
        "\n",
        "**keys** containing an array with one row per instance and one column per feature \n",
        "\n",
        "**target** key containing an array with the labels "
      ]
    },
    {
      "cell_type": "code",
      "metadata": {
        "id": "_8dZhO5YIxXt",
        "colab_type": "code",
        "colab": {
          "base_uri": "https://localhost:8080/",
          "height": 34
        },
        "outputId": "68a380de-9397-4e01-a2a8-b74209012886"
      },
      "source": [
        "X, y = mnist[\"data\"], mnist[\"target\"]\n",
        "X.shape"
      ],
      "execution_count": 2,
      "outputs": [
        {
          "output_type": "execute_result",
          "data": {
            "text/plain": [
              "(70000, 784)"
            ]
          },
          "metadata": {
            "tags": []
          },
          "execution_count": 2
        }
      ]
    },
    {
      "cell_type": "code",
      "metadata": {
        "id": "A7MtSTjJJYqR",
        "colab_type": "code",
        "colab": {
          "base_uri": "https://localhost:8080/",
          "height": 34
        },
        "outputId": "fb3ea6f8-a7a9-41d9-b8d4-1703fa34373d"
      },
      "source": [
        "y.shape"
      ],
      "execution_count": 3,
      "outputs": [
        {
          "output_type": "execute_result",
          "data": {
            "text/plain": [
              "(70000,)"
            ]
          },
          "metadata": {
            "tags": []
          },
          "execution_count": 3
        }
      ]
    },
    {
      "cell_type": "markdown",
      "metadata": {
        "id": "sjo6SL-iJetP",
        "colab_type": "text"
      },
      "source": [
        "There are 70,000 images and each image has 784 features (28 x 28 x 3)\n"
      ]
    },
    {
      "cell_type": "code",
      "metadata": {
        "id": "5yCpYA3WJaCS",
        "colab_type": "code",
        "colab": {
          "base_uri": "https://localhost:8080/",
          "height": 247
        },
        "outputId": "7bb32b45-0a5e-40bf-b2b0-8b759a1fb2b5"
      },
      "source": [
        "import matplotlib as mpl \n",
        "import matplotlib.pyplot as plt\n",
        "\n",
        "some_digit = X[0]\n",
        "some_digit_reshape = some_digit.reshape(28,28)\n",
        "\n",
        "plt.imshow(some_digit_reshape, cmap=\"binary\")\n",
        "plt.axis(\"off\")\n",
        "plt.show()"
      ],
      "execution_count": 4,
      "outputs": [
        {
          "output_type": "display_data",
          "data": {
            "image/png": "[encoded data removed]",
            "text/plain": [
              "<Figure size 432x288 with 1 Axes>"
            ]
          },
          "metadata": {
            "tags": [],
            "needs_background": "light"
          }
        }
      ]
    },
    {
      "cell_type": "code",
      "metadata": {
        "id": "2TJBLY5nKPgu",
        "colab_type": "code",
        "colab": {
          "base_uri": "https://localhost:8080/",
          "height": 34
        },
        "outputId": "2cea0f52-53eb-4e8b-fdac-c384528daa81"
      },
      "source": [
        "y[0]"
      ],
      "execution_count": 5,
      "outputs": [
        {
          "output_type": "execute_result",
          "data": {
            "text/plain": [
              "'5'"
            ]
          },
          "metadata": {
            "tags": []
          },
          "execution_count": 5
        }
      ]
    },
    {
      "cell_type": "markdown",
      "metadata": {
        "id": "3Nszr4pGKYGb",
        "colab_type": "text"
      },
      "source": [
        "Note that the label is a string but ML algorithms expect it to be in numbers so cast it to an integer \n",
        "\n"
      ]
    },
    {
      "cell_type": "code",
      "metadata": {
        "id": "vGjxEpljKU37",
        "colab_type": "code",
        "colab": {}
      },
      "source": [
        "import numpy as np\n",
        "\n",
        "y = y.astype(np.uint8)"
      ],
      "execution_count": 6,
      "outputs": []
    },
    {
      "cell_type": "markdown",
      "metadata": {
        "id": "0qFDeTW0Kuzr",
        "colab_type": "text"
      },
      "source": [
        "Remember to split the data into test and train images before inspecting the data any further "
      ]
    },
    {
      "cell_type": "code",
      "metadata": {
        "id": "WmzlxcmNKiST",
        "colab_type": "code",
        "colab": {}
      },
      "source": [
        "X_train, X_test, y_train, y_test = X[:60000], X[60000:], y[:60000], y[60000:]"
      ],
      "execution_count": 7,
      "outputs": []
    },
    {
      "cell_type": "markdown",
      "metadata": {
        "id": "_z3ClTU5LQRj",
        "colab_type": "text"
      },
      "source": [
        "Also the data has already been shuffled so there is no need to do it and this ensures that the data is in an even distribution. \n",
        "\n",
        "Moreover, some algorithms are sensitive to the order of the training instances, and they perform poorly if they similar instances of the data in a row. "
      ]
    },
    {
      "cell_type": "markdown",
      "metadata": {
        "id": "1mliTPzkL0co",
        "colab_type": "text"
      },
      "source": [
        "Even though the data consists of 10 numbers here I will be training a much simpler binary classifier before going on into a multiclass classsification problem "
      ]
    },
    {
      "cell_type": "code",
      "metadata": {
        "id": "vWN4MjV0LL94",
        "colab_type": "code",
        "colab": {}
      },
      "source": [
        "y_train_5 = (y_train == 5) # True for all fives and false for the rest \n",
        "y_test_5 = (y_test == 5)"
      ],
      "execution_count": 8,
      "outputs": []
    },
    {
      "cell_type": "markdown",
      "metadata": {
        "id": "gDUVqUO_MiVJ",
        "colab_type": "text"
      },
      "source": [
        "Here I will use the Stochastic Gradient Descent Classifier to start with \n",
        "\n",
        "It has the advantages of being capable of handling very large datasets efficiently \n",
        "\n",
        "This is due to it handling training instances independently "
      ]
    },
    {
      "cell_type": "code",
      "metadata": {
        "id": "2RSmV-kVMaV1",
        "colab_type": "code",
        "colab": {
          "base_uri": "https://localhost:8080/",
          "height": 123
        },
        "outputId": "a2c39313-46ef-47bb-86a9-c2e2bc961bfb"
      },
      "source": [
        "from sklearn.linear_model import SGDClassifier\n",
        "\n",
        "sgd = SGDClassifier(random_state = 42)\n",
        "sgd.fit(X_train, y_train_5)"
      ],
      "execution_count": 9,
      "outputs": [
        {
          "output_type": "execute_result",
          "data": {
            "text/plain": [
              "SGDClassifier(alpha=0.0001, average=False, class_weight=None,\n",
              "              early_stopping=False, epsilon=0.1, eta0=0.0, fit_intercept=True,\n",
              "              l1_ratio=0.15, learning_rate='optimal', loss='hinge',\n",
              "              max_iter=1000, n_iter_no_change=5, n_jobs=None, penalty='l2',\n",
              "              power_t=0.5, random_state=42, shuffle=True, tol=0.001,\n",
              "              validation_fraction=0.1, verbose=0, warm_start=False)"
            ]
          },
          "metadata": {
            "tags": []
          },
          "execution_count": 9
        }
      ]
    },
    {
      "cell_type": "code",
      "metadata": {
        "id": "J9kwmp6mNAEw",
        "colab_type": "code",
        "colab": {
          "base_uri": "https://localhost:8080/",
          "height": 34
        },
        "outputId": "a18af9ea-f466-4f38-cadf-aeb4a92a976e"
      },
      "source": [
        "sgd.predict([some_digit])"
      ],
      "execution_count": 10,
      "outputs": [
        {
          "output_type": "execute_result",
          "data": {
            "text/plain": [
              "array([ True])"
            ]
          },
          "metadata": {
            "tags": []
          },
          "execution_count": 10
        }
      ]
    },
    {
      "cell_type": "markdown",
      "metadata": {
        "id": "H2uhVb-ZNVJu",
        "colab_type": "text"
      },
      "source": [
        "This example managed to guess that the image at position 1 was a 5 which is true "
      ]
    },
    {
      "cell_type": "markdown",
      "metadata": {
        "id": "DvRFnBqxOWx_",
        "colab_type": "text"
      },
      "source": [
        "**Performance Measures**\n",
        "\n",
        "Evaluating a classifier is much more difficult than a regressor. "
      ]
    },
    {
      "cell_type": "markdown",
      "metadata": {
        "id": "hl89ShYFO-II",
        "colab_type": "text"
      },
      "source": [
        "Using K-fold cross-validation to evaluate the model \n",
        "\n",
        "This method means splitting the data into K folds where the model is evaluated on each fold using a model trained on the remaining folds "
      ]
    },
    {
      "cell_type": "code",
      "metadata": {
        "id": "zGdGIFMnNSb5",
        "colab_type": "code",
        "colab": {
          "base_uri": "https://localhost:8080/",
          "height": 34
        },
        "outputId": "95194ff5-1f8d-4b28-ca14-b70ba2d8bd7c"
      },
      "source": [
        "from sklearn.model_selection import cross_val_score\n",
        "\n",
        "cross_val_score(sgd, X_train, y_train_5, cv=3, scoring =\"accuracy\")"
      ],
      "execution_count": 11,
      "outputs": [
        {
          "output_type": "execute_result",
          "data": {
            "text/plain": [
              "array([0.95035, 0.96035, 0.9604 ])"
            ]
          },
          "metadata": {
            "tags": []
          },
          "execution_count": 11
        }
      ]
    },
    {
      "cell_type": "markdown",
      "metadata": {
        "id": "AOEhJVEfPsdm",
        "colab_type": "text"
      },
      "source": [
        "The model got about a 93% accuracy but wait is it any good?"
      ]
    },
    {
      "cell_type": "code",
      "metadata": {
        "id": "nRfZn8drPjl6",
        "colab_type": "code",
        "colab": {
          "base_uri": "https://localhost:8080/",
          "height": 34
        },
        "outputId": "11759f9c-30fd-4a70-a932-60e60763e1fc"
      },
      "source": [
        "# Test it out on a dumb classifier \n",
        "from sklearn.base import BaseEstimator\n",
        "\n",
        "class dumb_classifier(BaseEstimator):\n",
        "  def fit(self, X, y=None):\n",
        "    return self\n",
        "  def predict(self, X):\n",
        "    return np.zeros((len(X), 1), dtype=bool)\n",
        "\n",
        "dumb = dumb_classifier()\n",
        "cross_val_score(dumb, X_train, y_train_5, cv=3, scoring=\"accuracy\")"
      ],
      "execution_count": 12,
      "outputs": [
        {
          "output_type": "execute_result",
          "data": {
            "text/plain": [
              "array([0.91125, 0.90855, 0.90915])"
            ]
          },
          "metadata": {
            "tags": []
          },
          "execution_count": 12
        }
      ]
    },
    {
      "cell_type": "markdown",
      "metadata": {
        "id": "o_RcUU_4Qjnp",
        "colab_type": "text"
      },
      "source": [
        "Hmm the model gets about 90% accuracy. \n",
        "\n",
        "This is due to the dataset having 10% of its data belonging to number 5's \n",
        "\n",
        "So the dumb classifier is making every classification not a 5 then it will be right about 90% of the time. \n",
        "\n",
        "This shows that accuracy is not the best method to test how a classification model performs "
      ]
    },
    {
      "cell_type": "code",
      "metadata": {
        "id": "UgXrUsHVQiao",
        "colab_type": "code",
        "colab": {}
      },
      "source": [
        "# The Confusion Matrix \n",
        "from sklearn.model_selection import cross_val_predict\n",
        "\n",
        "y_train_pred = cross_val_predict(sgd, X_train, y_train_5, cv = 3)"
      ],
      "execution_count": 13,
      "outputs": []
    },
    {
      "cell_type": "code",
      "metadata": {
        "id": "M1DxEaLBhIze",
        "colab_type": "code",
        "colab": {
          "base_uri": "https://localhost:8080/",
          "height": 52
        },
        "outputId": "4d5b8da5-9c5c-48b7-92db-89a10d079f08"
      },
      "source": [
        "from sklearn.metrics import confusion_matrix\n",
        "\n",
        "confusion_matrix(y_train_5,y_train_pred)"
      ],
      "execution_count": 14,
      "outputs": [
        {
          "output_type": "execute_result",
          "data": {
            "text/plain": [
              "array([[53892,   687],\n",
              "       [ 1891,  3530]])"
            ]
          },
          "metadata": {
            "tags": []
          },
          "execution_count": 14
        }
      ]
    },
    {
      "cell_type": "markdown",
      "metadata": {
        "id": "tRi6C7KQiGVL",
        "colab_type": "text"
      },
      "source": [
        "Each row represents an actual class \n",
        "\n",
        "(From top left)\n",
        "True Positives  False Positives \n",
        "False Negatives True Negatives \n",
        "\n",
        "\n",
        "Precision = TP / TP + FP\n",
        "\n",
        "Precision measures how accurate the model performs on its classifications \n",
        "\n",
        "Recall = TP / TP + FN \n",
        "\n",
        "Recall measures how the model performed on classification of the whole data i.e. includes the classification cases where the model did not classify the intended the output."
      ]
    },
    {
      "cell_type": "code",
      "metadata": {
        "id": "DftOXARHiFIx",
        "colab_type": "code",
        "colab": {
          "base_uri": "https://localhost:8080/",
          "height": 52
        },
        "outputId": "871b6225-596f-4712-e745-af1bddbe94b0"
      },
      "source": [
        "from sklearn.metrics import precision_score, recall_score\n",
        "\n",
        "\n",
        "print(\"Precision score :\" ) \n",
        "precision_score(y_train_5, y_train_pred)\n",
        "\n",
        "\n"
      ],
      "execution_count": 15,
      "outputs": [
        {
          "output_type": "stream",
          "text": [
            "Precision score :\n"
          ],
          "name": "stdout"
        },
        {
          "output_type": "execute_result",
          "data": {
            "text/plain": [
              "0.8370879772350012"
            ]
          },
          "metadata": {
            "tags": []
          },
          "execution_count": 15
        }
      ]
    },
    {
      "cell_type": "code",
      "metadata": {
        "id": "pfE6SjtYjUSk",
        "colab_type": "code",
        "colab": {
          "base_uri": "https://localhost:8080/",
          "height": 52
        },
        "outputId": "fb5bb19b-f479-45bf-f827-ea9ed57abe24"
      },
      "source": [
        "print(\"Recall score: \")\n",
        "recall_score(y_train_5, y_train_pred)"
      ],
      "execution_count": 16,
      "outputs": [
        {
          "output_type": "stream",
          "text": [
            "Recall score: \n"
          ],
          "name": "stdout"
        },
        {
          "output_type": "execute_result",
          "data": {
            "text/plain": [
              "0.6511713705958311"
            ]
          },
          "metadata": {
            "tags": []
          },
          "execution_count": 16
        }
      ]
    },
    {
      "cell_type": "markdown",
      "metadata": {
        "id": "iT-mHqhHjtxi",
        "colab_type": "text"
      },
      "source": [
        "To compare the two you can use the F1 score \n",
        "\n",
        "F1 = 2 * (PR/P+R)"
      ]
    },
    {
      "cell_type": "code",
      "metadata": {
        "id": "uJqbnGAqjpuP",
        "colab_type": "code",
        "colab": {
          "base_uri": "https://localhost:8080/",
          "height": 52
        },
        "outputId": "82392dbe-9844-49f7-8362-fc82435eb797"
      },
      "source": [
        "from sklearn.metrics import f1_score \n",
        "\n",
        "print(\"F1 score :\")\n",
        "f1_score(y_train_5, y_train_pred)"
      ],
      "execution_count": 17,
      "outputs": [
        {
          "output_type": "stream",
          "text": [
            "F1 score :\n"
          ],
          "name": "stdout"
        },
        {
          "output_type": "execute_result",
          "data": {
            "text/plain": [
              "0.7325171197343846"
            ]
          },
          "metadata": {
            "tags": []
          },
          "execution_count": 17
        }
      ]
    },
    {
      "cell_type": "markdown",
      "metadata": {
        "id": "xPfBOwFCkFn7",
        "colab_type": "text"
      },
      "source": [
        "The F1 score favors classifiers that have a similar Precision and Recall value but its not always that you want a classifier that has a good F1 score \n",
        "\n",
        "For example, say you are building a system for Youtube to detect videos that are not safe for viewing for childern. You would want the classifier to have a high precision where it will be letting a very low amount of unsafe videos to pass through.\n",
        "\n",
        "But if you are building a classifier to detect shoplifters in a store then you might want a classifier that has a very high recall where it might make a few false alarms but overall it identifies most of them. "
      ]
    },
    {
      "cell_type": "markdown",
      "metadata": {
        "id": "M4njdZZBlf4p",
        "colab_type": "text"
      },
      "source": [
        "Thresholding in Precision and Recall \n",
        "\n",
        "SGD Classifier has a decision function which acts as a sort of a threshold. The higher the threshold the more precise the classifier and the vice versa. \n",
        "\n",
        "\n"
      ]
    },
    {
      "cell_type": "code",
      "metadata": {
        "id": "J3jMDpCEkDkc",
        "colab_type": "code",
        "colab": {
          "base_uri": "https://localhost:8080/",
          "height": 34
        },
        "outputId": "830d8d1d-4c5f-4c56-e220-e960e3182435"
      },
      "source": [
        "y_score = sgd.decision_function([some_digit])\n",
        "y_score"
      ],
      "execution_count": 18,
      "outputs": [
        {
          "output_type": "execute_result",
          "data": {
            "text/plain": [
              "array([2164.22030239])"
            ]
          },
          "metadata": {
            "tags": []
          },
          "execution_count": 18
        }
      ]
    },
    {
      "cell_type": "code",
      "metadata": {
        "id": "ne47a9hEoHRg",
        "colab_type": "code",
        "colab": {
          "base_uri": "https://localhost:8080/",
          "height": 34
        },
        "outputId": "0e02137c-a55c-43d5-c873-8f2e41ab7105"
      },
      "source": [
        "threshold = 0\n",
        "y_some_digit_pred = (y_score > threshold)\n",
        "y_some_digit_pred"
      ],
      "execution_count": 19,
      "outputs": [
        {
          "output_type": "execute_result",
          "data": {
            "text/plain": [
              "array([ True])"
            ]
          },
          "metadata": {
            "tags": []
          },
          "execution_count": 19
        }
      ]
    },
    {
      "cell_type": "code",
      "metadata": {
        "id": "919ufnQCoNDS",
        "colab_type": "code",
        "colab": {
          "base_uri": "https://localhost:8080/",
          "height": 34
        },
        "outputId": "1bc31a66-58cd-437c-c2e9-17abf03ba0e3"
      },
      "source": [
        "threshold = 8000\n",
        "y_some_digit_pred_ = (y_score > threshold)\n",
        "y_some_digit_pred_"
      ],
      "execution_count": 20,
      "outputs": [
        {
          "output_type": "execute_result",
          "data": {
            "text/plain": [
              "array([False])"
            ]
          },
          "metadata": {
            "tags": []
          },
          "execution_count": 20
        }
      ]
    },
    {
      "cell_type": "markdown",
      "metadata": {
        "id": "gpgv4nRcoiEj",
        "colab_type": "text"
      },
      "source": [
        "This confirms that raising the threshold increases recall but decreases precision"
      ]
    },
    {
      "cell_type": "code",
      "metadata": {
        "id": "guH0siYLogj8",
        "colab_type": "code",
        "colab": {}
      },
      "source": [
        "# How to decide which threshold to use?\n",
        "\n",
        "y_scores = cross_val_predict(sgd, X_train, y_train_5, cv=3, method=\"decision_function\")"
      ],
      "execution_count": 21,
      "outputs": []
    },
    {
      "cell_type": "code",
      "metadata": {
        "id": "CCcbS7pFoySD",
        "colab_type": "code",
        "colab": {
          "base_uri": "https://localhost:8080/",
          "height": 287
        },
        "outputId": "f202be65-430a-4152-f4f9-08bd34dbd81a"
      },
      "source": [
        "# Plot the precision recall curve \n",
        "from sklearn.metrics import precision_recall_curve\n",
        "\n",
        "precisions, recalls, thresholds = precision_recall_curve(y_train_5, y_scores)\n",
        "                                                         \n",
        "def plot_precision_recall_vs_threshold(precisions, recalls, thresholds):\n",
        "    plt.plot(thresholds, precisions[:-1], \"b--\", label=\"Precision\", linewidth=2)\n",
        "    plt.plot(thresholds, recalls[:-1], \"g-\", label=\"Recall\", linewidth=2)\n",
        "    plt.legend(loc=\"center right\", fontsize=16) \n",
        "    plt.xlabel(\"Threshold\", fontsize=16)        \n",
        "    plt.grid(True)                              \n",
        "    plt.axis([-50000, 50000, 0, 1])             \n",
        "\n",
        "\n",
        "\n",
        "recall_90_precision = recalls[np.argmax(precisions >= 0.90)]\n",
        "threshold_90_precision = thresholds[np.argmax(precisions >= 0.90)]\n",
        "\n",
        "\n",
        "plt.figure(figsize=(8, 4))                                                                  \n",
        "plot_precision_recall_vs_threshold(precisions, recalls, thresholds)\n",
        "plt.plot([threshold_90_precision, threshold_90_precision], [0., 0.9], \"r:\")                 \n",
        "plt.plot([-50000, threshold_90_precision], [0.9, 0.9], \"r:\")                                \n",
        "plt.plot([-50000, threshold_90_precision], [recall_90_precision, recall_90_precision], \"r:\")\n",
        "plt.plot([threshold_90_precision], [0.9], \"ro\")                                             \n",
        "plt.plot([threshold_90_precision], [recall_90_precision], \"ro\")                             \n",
        "# save_fig(\"precision_recall_vs_threshold_plot\")                                              \n",
        "plt.show()"
      ],
      "execution_count": 22,
      "outputs": [
        {
          "output_type": "display_data",
          "data": {
            "image/png": "[encoded data removed]",
            "text/plain": [
              "<Figure size 576x288 with 1 Axes>"
            ]
          },
          "metadata": {
            "tags": [],
            "needs_background": "light"
          }
        }
      ]
    },
    {
      "cell_type": "markdown",
      "metadata": {
        "id": "pSpstX8YqDDx",
        "colab_type": "text"
      },
      "source": [
        "Precision is bumpy because it may sometimes go down when you raise the threshold \n",
        "\n"
      ]
    },
    {
      "cell_type": "code",
      "metadata": {
        "id": "zDSYX60Jpb7l",
        "colab_type": "code",
        "colab": {
          "base_uri": "https://localhost:8080/",
          "height": 396
        },
        "outputId": "9ef612c9-5179-4e3c-d4a0-126e0f6f50ee"
      },
      "source": [
        "def plot_precision_vs_recall(precisions, recalls):\n",
        "    plt.plot(recalls, precisions, \"b-\", linewidth=2)\n",
        "    plt.xlabel(\"Recall\", fontsize=16)\n",
        "    plt.ylabel(\"Precision\", fontsize=16)\n",
        "    plt.axis([0, 1, 0, 1])\n",
        "    plt.grid(True)\n",
        "\n",
        "plt.figure(figsize=(8, 6))\n",
        "plot_precision_vs_recall(precisions, recalls)\n",
        "plt.plot([0.4368, 0.4368], [0., 0.9], \"r:\")\n",
        "plt.plot([0.0, 0.4368], [0.9, 0.9], \"r:\")\n",
        "plt.plot([0.4368], [0.9], \"ro\")\n",
        "# save_fig(\"precision_vs_recall_plot\")\n",
        "plt.show()"
      ],
      "execution_count": 23,
      "outputs": [
        {
          "output_type": "display_data",
          "data": {
            "image/png": "[encoded data removed]",
            "text/plain": [
              "<Figure size 576x432 with 1 Axes>"
            ]
          },
          "metadata": {
            "tags": [],
            "needs_background": "light"
          }
        }
      ]
    },
    {
      "cell_type": "markdown",
      "metadata": {
        "id": "LxEnjarxqeb5",
        "colab_type": "text"
      },
      "source": [
        "If you want to train for 90% precision you can search for the lowest threshold that gives you 90% precision "
      ]
    },
    {
      "cell_type": "code",
      "metadata": {
        "id": "0WF_6JmIqW_B",
        "colab_type": "code",
        "colab": {}
      },
      "source": [
        "threshold_90_precision = thresholds[np.argmax(precisions >= 0.90)]"
      ],
      "execution_count": 24,
      "outputs": []
    },
    {
      "cell_type": "code",
      "metadata": {
        "id": "LzvwJSZlrAom",
        "colab_type": "code",
        "colab": {
          "base_uri": "https://localhost:8080/",
          "height": 34
        },
        "outputId": "ea5dbeeb-27e2-4ef8-b166-f89a332f9fa6"
      },
      "source": [
        "threshold_90_precision\n",
        "# This is the threshold value "
      ],
      "execution_count": 25,
      "outputs": [
        {
          "output_type": "execute_result",
          "data": {
            "text/plain": [
              "3370.0194991439557"
            ]
          },
          "metadata": {
            "tags": []
          },
          "execution_count": 25
        }
      ]
    },
    {
      "cell_type": "code",
      "metadata": {
        "id": "os8qWCq8rF_m",
        "colab_type": "code",
        "colab": {}
      },
      "source": [
        "y_train_pred_90 = (y_scores >= threshold_90_precision)"
      ],
      "execution_count": 26,
      "outputs": []
    },
    {
      "cell_type": "code",
      "metadata": {
        "id": "oyTKqxTGsPWV",
        "colab_type": "code",
        "colab": {
          "base_uri": "https://localhost:8080/",
          "height": 52
        },
        "outputId": "c105f7bf-aae2-432a-888d-a9999cb3d69c"
      },
      "source": [
        "print(\"Precision: \")\n",
        "precision_score(y_train_5, y_train_pred_90)"
      ],
      "execution_count": 27,
      "outputs": [
        {
          "output_type": "stream",
          "text": [
            "Precision: \n"
          ],
          "name": "stdout"
        },
        {
          "output_type": "execute_result",
          "data": {
            "text/plain": [
              "0.9000345901072293"
            ]
          },
          "metadata": {
            "tags": []
          },
          "execution_count": 27
        }
      ]
    },
    {
      "cell_type": "code",
      "metadata": {
        "id": "wkRZFkwDsgwD",
        "colab_type": "code",
        "colab": {
          "base_uri": "https://localhost:8080/",
          "height": 52
        },
        "outputId": "b8700014-87a5-49eb-9e94-d3fd4c5cae56"
      },
      "source": [
        "print(\"Recall: \")\n",
        "recall_score(y_train_5, y_train_pred_90)"
      ],
      "execution_count": 28,
      "outputs": [
        {
          "output_type": "stream",
          "text": [
            "Recall: \n"
          ],
          "name": "stdout"
        },
        {
          "output_type": "execute_result",
          "data": {
            "text/plain": [
              "0.4799852425751706"
            ]
          },
          "metadata": {
            "tags": []
          },
          "execution_count": 28
        }
      ]
    },
    {
      "cell_type": "markdown",
      "metadata": {
        "id": "LxY3tvLusxQb",
        "colab_type": "text"
      },
      "source": [
        "# The ROC Curve \n",
        "\n",
        "The receiver operating characteristics curve is a common tool used to evaluate binary classifiers \n",
        "\n",
        "It plots the true positive rate vs the false positive rate \n",
        "(FPR = 1 - True Negative Rate)\n",
        "\n",
        "TNR = Specificity\n",
        "\n",
        "Therefore the ROC curve plots the sensitivity (recall) vs 1 - specificity  \n"
      ]
    },
    {
      "cell_type": "code",
      "metadata": {
        "id": "tPCda3Fqsl7d",
        "colab_type": "code",
        "colab": {}
      },
      "source": [
        "from sklearn.metrics import roc_curve\n",
        "fpr, tpr, thresholds = roc_curve(y_train_5, y_scores)"
      ],
      "execution_count": 29,
      "outputs": []
    },
    {
      "cell_type": "code",
      "metadata": {
        "id": "M6RWKx5mtaIm",
        "colab_type": "code",
        "colab": {
          "base_uri": "https://localhost:8080/",
          "height": 396
        },
        "outputId": "818c6c73-d8da-4a63-f5de-0d408023eca5"
      },
      "source": [
        "def plot_roc_curve(fpr, tpr, label=None):\n",
        "    plt.plot(fpr, tpr, linewidth=2, label=label)\n",
        "    plt.plot([0, 1], [0, 1], 'k--') # dashed diagonal\n",
        "    plt.axis([0, 1, 0, 1])                                    \n",
        "    plt.xlabel('False Positive Rate (Fall-Out)', fontsize=16) \n",
        "    plt.ylabel('True Positive Rate (Recall)', fontsize=16)    \n",
        "    plt.grid(True)                                            \n",
        "\n",
        "plt.figure(figsize=(8, 6))                         \n",
        "plot_roc_curve(fpr, tpr)\n",
        "plt.plot([4.837e-3, 4.837e-3], [0., 0.4368], \"r:\") \n",
        "plt.plot([0.0, 4.837e-3], [0.4368, 0.4368], \"r:\")  \n",
        "plt.plot([4.837e-3], [0.4368], \"ro\")               \n",
        "# save_fig(\"roc_curve_plot\")                       \n",
        "plt.show()"
      ],
      "execution_count": 30,
      "outputs": [
        {
          "output_type": "display_data",
          "data": {
            "image/png": "[encoded data removed]",
            "text/plain": [
              "<Figure size 576x432 with 1 Axes>"
            ]
          },
          "metadata": {
            "tags": [],
            "needs_background": "light"
          }
        }
      ]
    },
    {
      "cell_type": "markdown",
      "metadata": {
        "id": "jgkoQTbCt_Ho",
        "colab_type": "text"
      },
      "source": [
        "Method to compare multiple classfiers on the ROC curve is to compare their AUC or Area Under Curve "
      ]
    },
    {
      "cell_type": "code",
      "metadata": {
        "id": "egZFbRQqth8W",
        "colab_type": "code",
        "colab": {
          "base_uri": "https://localhost:8080/",
          "height": 34
        },
        "outputId": "f9766697-2d0f-4fe3-c85d-afb532e0b149"
      },
      "source": [
        "from sklearn.metrics import roc_auc_score\n",
        "\n",
        "roc_auc_score(y_train_5, y_scores)"
      ],
      "execution_count": 31,
      "outputs": [
        {
          "output_type": "execute_result",
          "data": {
            "text/plain": [
              "0.9604938554008616"
            ]
          },
          "metadata": {
            "tags": []
          },
          "execution_count": 31
        }
      ]
    },
    {
      "cell_type": "markdown",
      "metadata": {
        "id": "rBVq9mtZwLwL",
        "colab_type": "text"
      },
      "source": [
        "# PR curve or ROC curve?\n",
        "\n",
        "PR curve is better when the positive class is very rare. For example, when detecting whether tumors are malignant or benign. Here you might have 98% of your data containing negative class.\n",
        "\n",
        "Otherwise use a ROC curve"
      ]
    },
    {
      "cell_type": "code",
      "metadata": {
        "id": "6vWNfIaIt9v-",
        "colab_type": "code",
        "colab": {}
      },
      "source": [
        "# Try with Random Forest \n",
        "# The Random Forest Classifier does not have a decision function \n",
        "# Instead it uses a predict_proba() which returns an array containing a row per instance and a column per class \n",
        "# Containing the probability that the given instance belongs to the given class \n",
        "\n",
        "from sklearn.ensemble import RandomForestClassifier\n",
        "forest_clf = RandomForestClassifier(random_state=42)\n",
        "y_probas_forest = cross_val_predict(forest_clf, X_train, y_train_5, cv=3,\n",
        "method=\"predict_proba\")"
      ],
      "execution_count": 32,
      "outputs": []
    },
    {
      "cell_type": "code",
      "metadata": {
        "id": "U3hvijekw3nS",
        "colab_type": "code",
        "colab": {}
      },
      "source": [
        "# The roc_curve() expects labels and scores so insted of scores you can give it class probabilities \n",
        "\n",
        "y_scores_forest = y_probas_forest[:, 1] \n",
        "# score = proba of a positive class\n",
        "\n",
        "fpr_forest, tpr_forest, thresholds_forest = roc_curve(y_train_5, y_scores_forest)"
      ],
      "execution_count": 33,
      "outputs": []
    },
    {
      "cell_type": "code",
      "metadata": {
        "id": "oANkXGJeyE1n",
        "colab_type": "code",
        "colab": {
          "base_uri": "https://localhost:8080/",
          "height": 287
        },
        "outputId": "02561c97-b2da-4692-a582-0455737ef2a5"
      },
      "source": [
        "plt.plot(fpr, tpr, \"b:\", linewidth=2, label=\"SGD\")\n",
        "plot_roc_curve(fpr_forest, tpr_forest, \"Random Forest\")\n",
        "plt.plot([4.837e-3, 4.837e-3], [0., 0.4368], \"r:\")\n",
        "plt.plot([0.0, 4.837e-3], [0.4368, 0.4368], \"r:\")\n",
        "plt.plot([4.837e-3], [0.4368], \"ro\")\n",
        "plt.plot([4.837e-3, 4.837e-3], [0., 0.9487], \"r:\")\n",
        "plt.plot([4.837e-3], [0.9487], \"ro\")\n",
        "plt.grid(True)\n",
        "plt.legend(loc=\"lower right\", fontsize=16)\n",
        "# save_fig(\"roc_curve_comparison_plot\")\n",
        "plt.show()"
      ],
      "execution_count": 34,
      "outputs": [
        {
          "output_type": "display_data",
          "data": {
            "image/png": "[encoded data removed]",
            "text/plain": [
              "<Figure size 432x288 with 1 Axes>"
            ]
          },
          "metadata": {
            "tags": [],
            "needs_background": "light"
          }
        }
      ]
    },
    {
      "cell_type": "code",
      "metadata": {
        "id": "CFh8J5VOyIM3",
        "colab_type": "code",
        "colab": {
          "base_uri": "https://localhost:8080/",
          "height": 34
        },
        "outputId": "95dd5006-a2aa-4960-d0c6-facf6c99f553"
      },
      "source": [
        "roc_auc_score(y_train_5, y_scores_forest)"
      ],
      "execution_count": 35,
      "outputs": [
        {
          "output_type": "execute_result",
          "data": {
            "text/plain": [
              "0.9983436731328145"
            ]
          },
          "metadata": {
            "tags": []
          },
          "execution_count": 35
        }
      ]
    },
    {
      "cell_type": "code",
      "metadata": {
        "id": "kP_tUzugye0-",
        "colab_type": "code",
        "colab": {
          "base_uri": "https://localhost:8080/",
          "height": 52
        },
        "outputId": "f2c081bd-d45d-4655-fad6-a7da493ada9e"
      },
      "source": [
        "y_train_pred_forest = cross_val_predict(forest_clf, X_train, y_train_5, cv=3)\n",
        "precision_score(y_train_5, y_train_pred_forest)\n",
        "\n",
        "print(\"Precision score: \")\n",
        "precision_score(y_train_5, y_train_pred_forest)"
      ],
      "execution_count": 36,
      "outputs": [
        {
          "output_type": "stream",
          "text": [
            "Precision score: \n"
          ],
          "name": "stdout"
        },
        {
          "output_type": "execute_result",
          "data": {
            "text/plain": [
              "0.9905083315756169"
            ]
          },
          "metadata": {
            "tags": []
          },
          "execution_count": 36
        }
      ]
    },
    {
      "cell_type": "code",
      "metadata": {
        "id": "SQGtMV_1zMjb",
        "colab_type": "code",
        "colab": {
          "base_uri": "https://localhost:8080/",
          "height": 52
        },
        "outputId": "f5ae5718-1a41-477b-b906-29a01f602956"
      },
      "source": [
        "print(\"Recall score: \")\n",
        "recall_score(y_train_5, y_train_pred_forest)"
      ],
      "execution_count": 37,
      "outputs": [
        {
          "output_type": "stream",
          "text": [
            "Recall score: \n"
          ],
          "name": "stdout"
        },
        {
          "output_type": "execute_result",
          "data": {
            "text/plain": [
              "0.8662608374838591"
            ]
          },
          "metadata": {
            "tags": []
          },
          "execution_count": 37
        }
      ]
    },
    {
      "cell_type": "markdown",
      "metadata": {
        "id": "rNVVk-sWyf19",
        "colab_type": "text"
      },
      "source": [
        "The Random Forest performs much better than the SGD Classifier!"
      ]
    },
    {
      "cell_type": "markdown",
      "metadata": {
        "id": "r7dIun2tzUCN",
        "colab_type": "text"
      },
      "source": [
        "# Multiclass Classification \n",
        "\n",
        "Algorithms such as SGD, Random Forest classifiers and naive Bayes classifiers are capable of handling multiple classes natively \n",
        "\n",
        "Another way is to use binary classifiers such as Support Vector Machines and Logistic Regression for multiclass classification by combining multiple binary classifiers together. For example using 10 binary clssifiers for each class in the MNIST dataset. \n",
        "\n",
        "This is called a one-versus-the-rest (OvR) strategy\n",
        "\n",
        "Or you could train a binary classifier on a pair of numbers. \n",
        "One for classfying 0's and 1's etc. \n",
        "This is called a one-versus-one (OvO) strategy.\n",
        "If there are N classes then you need to train N x (N-1) / 2\n",
        "\n",
        "SVM's scale poorly with the size of the training set so OvO is preferred as it is faster to train many classifiers on small training sets than to train few classifiers on large training sets. \n",
        " "
      ]
    },
    {
      "cell_type": "code",
      "metadata": {
        "id": "ioutk86X3DhN",
        "colab_type": "code",
        "colab": {
          "base_uri": "https://localhost:8080/",
          "height": 34
        },
        "outputId": "3a14d0f2-d2c6-44b2-cb3d-3ff88cb5070e"
      },
      "source": [
        "from sklearn.svm import SVC\n",
        "\n",
        "svm_clf = SVC()\n",
        "svm_clf.fit(X_train, y_train)\n",
        "svm_clf.predict([some_digit])"
      ],
      "execution_count": 38,
      "outputs": [
        {
          "output_type": "execute_result",
          "data": {
            "text/plain": [
              "array([5], dtype=uint8)"
            ]
          },
          "metadata": {
            "tags": []
          },
          "execution_count": 38
        }
      ]
    },
    {
      "cell_type": "code",
      "metadata": {
        "id": "slq3q26E3VhZ",
        "colab_type": "code",
        "colab": {
          "base_uri": "https://localhost:8080/",
          "height": 52
        },
        "outputId": "3b7570dd-0fdf-4125-beec-dfeaa7700698"
      },
      "source": [
        "some_digit_scores = svm_clf.decision_function([some_digit])\n",
        "some_digit_scores"
      ],
      "execution_count": 39,
      "outputs": [
        {
          "output_type": "execute_result",
          "data": {
            "text/plain": [
              "array([[ 1.72501977,  2.72809088,  7.2510018 ,  8.3076379 , -0.31087254,\n",
              "         9.3132482 ,  1.70975103,  2.76765202,  6.23049537,  4.84771048]])"
            ]
          },
          "metadata": {
            "tags": []
          },
          "execution_count": 39
        }
      ]
    },
    {
      "cell_type": "code",
      "metadata": {
        "id": "07jO4LvD8Rji",
        "colab_type": "code",
        "colab": {
          "base_uri": "https://localhost:8080/",
          "height": 34
        },
        "outputId": "685a403f-15eb-4072-bdaa-16bf7ccf14ae"
      },
      "source": [
        "# It returns 10 scores for each class and to get the prediction of the model on that digit\n",
        "# find the argmax \n",
        "np.argmax([some_digit_scores])"
      ],
      "execution_count": 40,
      "outputs": [
        {
          "output_type": "execute_result",
          "data": {
            "text/plain": [
              "5"
            ]
          },
          "metadata": {
            "tags": []
          },
          "execution_count": 40
        }
      ]
    },
    {
      "cell_type": "code",
      "metadata": {
        "id": "3WzZT-Mf8hoX",
        "colab_type": "code",
        "colab": {
          "base_uri": "https://localhost:8080/",
          "height": 34
        },
        "outputId": "e14662cd-18b0-4f81-c5ea-6ae8a171b923"
      },
      "source": [
        "svm_clf.classes_"
      ],
      "execution_count": 41,
      "outputs": [
        {
          "output_type": "execute_result",
          "data": {
            "text/plain": [
              "array([0, 1, 2, 3, 4, 5, 6, 7, 8, 9], dtype=uint8)"
            ]
          },
          "metadata": {
            "tags": []
          },
          "execution_count": 41
        }
      ]
    },
    {
      "cell_type": "code",
      "metadata": {
        "id": "dM-HIWBC8ln7",
        "colab_type": "code",
        "colab": {
          "base_uri": "https://localhost:8080/",
          "height": 34
        },
        "outputId": "2acf6875-062a-448b-fe52-e465238862f1"
      },
      "source": [
        "svm_clf.classes_[5]"
      ],
      "execution_count": 42,
      "outputs": [
        {
          "output_type": "execute_result",
          "data": {
            "text/plain": [
              "5"
            ]
          },
          "metadata": {
            "tags": []
          },
          "execution_count": 42
        }
      ]
    },
    {
      "cell_type": "markdown",
      "metadata": {
        "id": "dZRNRR4A8v9C",
        "colab_type": "text"
      },
      "source": [
        "By default the SVC model uses the OvO method \n",
        "\n",
        "Here I will use the OvR strategy "
      ]
    },
    {
      "cell_type": "code",
      "metadata": {
        "id": "KTDhZg9D8pZS",
        "colab_type": "code",
        "colab": {
          "base_uri": "https://localhost:8080/",
          "height": 141
        },
        "outputId": "be9910fe-4532-4f8b-f4c2-d22ce9457cd7"
      },
      "source": [
        "from sklearn.multiclass import OneVsRestClassifier\n",
        "ovr_clf = OneVsRestClassifier(SVC())\n",
        "ovr_clf.fit(X_train,y_train)"
      ],
      "execution_count": 43,
      "outputs": [
        {
          "output_type": "execute_result",
          "data": {
            "text/plain": [
              "OneVsRestClassifier(estimator=SVC(C=1.0, break_ties=False, cache_size=200,\n",
              "                                  class_weight=None, coef0=0.0,\n",
              "                                  decision_function_shape='ovr', degree=3,\n",
              "                                  gamma='scale', kernel='rbf', max_iter=-1,\n",
              "                                  probability=False, random_state=None,\n",
              "                                  shrinking=True, tol=0.001, verbose=False),\n",
              "                    n_jobs=None)"
            ]
          },
          "metadata": {
            "tags": []
          },
          "execution_count": 43
        }
      ]
    },
    {
      "cell_type": "code",
      "metadata": {
        "id": "fQxhBPuL9GY-",
        "colab_type": "code",
        "colab": {
          "base_uri": "https://localhost:8080/",
          "height": 34
        },
        "outputId": "3da0ebd9-71e6-4507-e98b-61cfe0806f0d"
      },
      "source": [
        "ovr_clf.predict([some_digit])"
      ],
      "execution_count": 44,
      "outputs": [
        {
          "output_type": "execute_result",
          "data": {
            "text/plain": [
              "array([5], dtype=uint8)"
            ]
          },
          "metadata": {
            "tags": []
          },
          "execution_count": 44
        }
      ]
    },
    {
      "cell_type": "code",
      "metadata": {
        "id": "cYFBtQ1hP2hD",
        "colab_type": "code",
        "colab": {
          "base_uri": "https://localhost:8080/",
          "height": 34
        },
        "outputId": "411b7573-dad6-4695-c65a-1303b567b3d6"
      },
      "source": [
        "len(ovr_clf.estimators_)"
      ],
      "execution_count": 45,
      "outputs": [
        {
          "output_type": "execute_result",
          "data": {
            "text/plain": [
              "10"
            ]
          },
          "metadata": {
            "tags": []
          },
          "execution_count": 45
        }
      ]
    },
    {
      "cell_type": "code",
      "metadata": {
        "id": "SEjx3IevP6AD",
        "colab_type": "code",
        "colab": {
          "base_uri": "https://localhost:8080/",
          "height": 123
        },
        "outputId": "8d7956e5-c974-4237-f0c5-38bfc50dd491"
      },
      "source": [
        "sgd.fit(X_train, y_train)"
      ],
      "execution_count": 46,
      "outputs": [
        {
          "output_type": "execute_result",
          "data": {
            "text/plain": [
              "SGDClassifier(alpha=0.0001, average=False, class_weight=None,\n",
              "              early_stopping=False, epsilon=0.1, eta0=0.0, fit_intercept=True,\n",
              "              l1_ratio=0.15, learning_rate='optimal', loss='hinge',\n",
              "              max_iter=1000, n_iter_no_change=5, n_jobs=None, penalty='l2',\n",
              "              power_t=0.5, random_state=42, shuffle=True, tol=0.001,\n",
              "              validation_fraction=0.1, verbose=0, warm_start=False)"
            ]
          },
          "metadata": {
            "tags": []
          },
          "execution_count": 46
        }
      ]
    },
    {
      "cell_type": "code",
      "metadata": {
        "id": "3P4fsHRcP8ZN",
        "colab_type": "code",
        "colab": {
          "base_uri": "https://localhost:8080/",
          "height": 34
        },
        "outputId": "c3cfd675-c6f3-4f58-bab8-239b44fb9d25"
      },
      "source": [
        "sgd.predict([some_digit])"
      ],
      "execution_count": 47,
      "outputs": [
        {
          "output_type": "execute_result",
          "data": {
            "text/plain": [
              "array([3], dtype=uint8)"
            ]
          },
          "metadata": {
            "tags": []
          },
          "execution_count": 47
        }
      ]
    },
    {
      "cell_type": "code",
      "metadata": {
        "id": "8L2Q5EsnP9s6",
        "colab_type": "code",
        "colab": {
          "base_uri": "https://localhost:8080/",
          "height": 87
        },
        "outputId": "510f6262-fb78-47e1-d198-bf7d0bd3055b"
      },
      "source": [
        "sgd.decision_function([some_digit])"
      ],
      "execution_count": 48,
      "outputs": [
        {
          "output_type": "execute_result",
          "data": {
            "text/plain": [
              "array([[-31893.03095419, -34419.69069632,  -9530.63950739,\n",
              "          1823.73154031, -22320.14822878,  -1385.80478895,\n",
              "        -26188.91070951, -16147.51323997,  -4604.35491274,\n",
              "        -12050.767298  ]])"
            ]
          },
          "metadata": {
            "tags": []
          },
          "execution_count": 48
        }
      ]
    },
    {
      "cell_type": "code",
      "metadata": {
        "id": "szQcLpDtP_qP",
        "colab_type": "code",
        "colab": {
          "base_uri": "https://localhost:8080/",
          "height": 34
        },
        "outputId": "ade559ea-bdc9-4e34-f28d-592e4eae6fd0"
      },
      "source": [
        "from sklearn.model_selection import cross_val_score\n",
        "\n",
        "cross_val_score(sgd, X_train, y_train, cv=3, scoring=\"accuracy\")"
      ],
      "execution_count": 49,
      "outputs": [
        {
          "output_type": "execute_result",
          "data": {
            "text/plain": [
              "array([0.87365, 0.85835, 0.8689 ])"
            ]
          },
          "metadata": {
            "tags": []
          },
          "execution_count": 49
        }
      ]
    },
    {
      "cell_type": "code",
      "metadata": {
        "id": "bayrpKCdQWAS",
        "colab_type": "code",
        "colab": {
          "base_uri": "https://localhost:8080/",
          "height": 34
        },
        "outputId": "1c493bd8-2f0b-4332-c459-55d788628743"
      },
      "source": [
        "from sklearn.preprocessing import StandardScaler\n",
        "# Scaling the data improves the performance \n",
        "\n",
        "scaler = StandardScaler()\n",
        "X_train_scaled = scaler.fit_transform(X_train.astype(np.float64))\n",
        "cross_val_score(sgd, X_train_scaled, y_train, cv=3, scoring= \"accuracy\")"
      ],
      "execution_count": 50,
      "outputs": [
        {
          "output_type": "execute_result",
          "data": {
            "text/plain": [
              "array([0.8983, 0.891 , 0.9018])"
            ]
          },
          "metadata": {
            "tags": []
          },
          "execution_count": 50
        }
      ]
    },
    {
      "cell_type": "markdown",
      "metadata": {
        "id": "cs0QeGf5RkAD",
        "colab_type": "text"
      },
      "source": [
        "# Error Analysis\n",
        "\n",
        "Here I assume that the model I found is the best one for the purposes of this classification task \n",
        "\n",
        "So now it is time to analyze the types of errors it makes in order to imporve it "
      ]
    },
    {
      "cell_type": "code",
      "metadata": {
        "id": "wzs6pA6fRldg",
        "colab_type": "code",
        "colab": {}
      },
      "source": [
        "# First look at the confusion matrix \n",
        "\n",
        "y_train_pred = cross_val_predict(sgd, X_train_scaled, y_train, cv=3)\n"
      ],
      "execution_count": 51,
      "outputs": []
    },
    {
      "cell_type": "code",
      "metadata": {
        "id": "SseB15pgSItx",
        "colab_type": "code",
        "colab": {
          "base_uri": "https://localhost:8080/",
          "height": 194
        },
        "outputId": "7be03948-fedb-4391-ae85-e288952f57f3"
      },
      "source": [
        "conf_matrix = confusion_matrix(y_train, y_train_pred)\n",
        "conf_matrix"
      ],
      "execution_count": 52,
      "outputs": [
        {
          "output_type": "execute_result",
          "data": {
            "text/plain": [
              "array([[5577,    0,   22,    5,    8,   43,   36,    6,  225,    1],\n",
              "       [   0, 6400,   37,   24,    4,   44,    4,    7,  212,   10],\n",
              "       [  27,   27, 5220,   92,   73,   27,   67,   36,  378,   11],\n",
              "       [  22,   17,  117, 5227,    2,  203,   27,   40,  403,   73],\n",
              "       [  12,   14,   41,    9, 5182,   12,   34,   27,  347,  164],\n",
              "       [  27,   15,   30,  168,   53, 4444,   75,   14,  535,   60],\n",
              "       [  30,   15,   42,    3,   44,   97, 5552,    3,  131,    1],\n",
              "       [  21,   10,   51,   30,   49,   12,    3, 5684,  195,  210],\n",
              "       [  17,   63,   48,   86,    3,  126,   25,   10, 5429,   44],\n",
              "       [  25,   18,   30,   64,  118,   36,    1,  179,  371, 5107]])"
            ]
          },
          "metadata": {
            "tags": []
          },
          "execution_count": 52
        }
      ]
    },
    {
      "cell_type": "code",
      "metadata": {
        "id": "vGi2onimSfOw",
        "colab_type": "code",
        "colab": {
          "base_uri": "https://localhost:8080/",
          "height": 274
        },
        "outputId": "a2100e20-876f-409e-ae02-2838a404e263"
      },
      "source": [
        "plt.matshow(conf_matrix, cmap=plt.cm.gray)\n",
        "plt.show()\n"
      ],
      "execution_count": 53,
      "outputs": [
        {
          "output_type": "display_data",
          "data": {
            "image/png": "[encoded data removed]",
            "text/plain": [
              "<Figure size 288x288 with 1 Axes>"
            ]
          },
          "metadata": {
            "tags": [],
            "needs_background": "light"
          }
        }
      ]
    },
    {
      "cell_type": "markdown",
      "metadata": {
        "id": "UKxXtI0wSj4k",
        "colab_type": "text"
      },
      "source": [
        "This confusion matrix looks good but notice that the number 5 has a slightly lighter colour compared to the rest of the numbers \n",
        "\n",
        "This could indicate that their are less 5's in the trainig data!\n",
        "\n",
        "Here I need to compare the error based on the number of images each value has \n",
        "\n",
        "This is to compare the error rates instead of comparing the absolute values of the errors "
      ]
    },
    {
      "cell_type": "code",
      "metadata": {
        "id": "YAvvJe8hTGpZ",
        "colab_type": "code",
        "colab": {}
      },
      "source": [
        "row_sums = conf_matrix.sum(axis=1, keepdims= True)\n",
        "norm_conf_mx = conf_matrix / row_sums "
      ],
      "execution_count": 54,
      "outputs": []
    },
    {
      "cell_type": "code",
      "metadata": {
        "id": "YylUOQzrTRgi",
        "colab_type": "code",
        "colab": {
          "base_uri": "https://localhost:8080/",
          "height": 274
        },
        "outputId": "96bc3e86-5f1e-4537-eabc-5dd41d036a8e"
      },
      "source": [
        "np.fill_diagonal(norm_conf_mx, 0) \n",
        "plt.matshow(norm_conf_mx, cmap=plt.cm.gray) \n",
        "plt.show()\n",
        "# Fill the diagonals with zeros so that it is easier to see the errors \n"
      ],
      "execution_count": 55,
      "outputs": [
        {
          "output_type": "display_data",
          "data": {
            "image/png": "[encoded data removed]",
            "text/plain": [
              "<Figure size 288x288 with 1 Axes>"
            ]
          },
          "metadata": {
            "tags": [],
            "needs_background": "light"
          }
        }
      ]
    },
    {
      "cell_type": "markdown",
      "metadata": {
        "id": "o02Y2fcvTWLt",
        "colab_type": "text"
      },
      "source": [
        "The rows represent the actual class and the columns represent the predicted class \n",
        "\n",
        "So based off of this confusion matrix it seems that the model has a lof of false positives for the number 8 \n",
        "\n",
        "Whereas in the row of number 8 it does not seem to indicate and abnormalities so it shows that it does pretty on classfying the number 8 \n",
        "\n",
        "With this confusion matrix I see that I need to spend more time focusing on improving the models performance on classfying the number 8\n",
        "\n",
        "Things I could do :\n",
        "\n",
        "1) Get more training data \n",
        "\n",
        "2) Engineer new features \n",
        "\n",
        "3) Preprocess the images "
      ]
    },
    {
      "cell_type": "code",
      "metadata": {
        "id": "R4pQyY6oNREr",
        "colab_type": "code",
        "colab": {}
      },
      "source": [
        "def plot_digits(instances, images_per_row=10, **options):\n",
        "    size = 28\n",
        "    images_per_row = min(len(instances), images_per_row)\n",
        "    images = [instance.reshape(size,size) for instance in instances]\n",
        "    n_rows = (len(instances) - 1) // images_per_row + 1\n",
        "    row_images = []\n",
        "    n_empty = n_rows * images_per_row - len(instances)\n",
        "    images.append(np.zeros((size, size * n_empty)))\n",
        "    for row in range(n_rows):\n",
        "        rimages = images[row * images_per_row : (row + 1) * images_per_row]\n",
        "        row_images.append(np.concatenate(rimages, axis=1))\n",
        "    image = np.concatenate(row_images, axis=0)\n",
        "    plt.imshow(image, cmap = mpl.cm.binary, **options)\n",
        "    plt.axis(\"off\")"
      ],
      "execution_count": 56,
      "outputs": []
    },
    {
      "cell_type": "code",
      "metadata": {
        "id": "twhxLvAoUlNX",
        "colab_type": "code",
        "colab": {
          "base_uri": "https://localhost:8080/",
          "height": 465
        },
        "outputId": "291476fd-15c9-40eb-ecc2-384adae9cfe7"
      },
      "source": [
        "# Analyzing individual errors can give you better insight as to why the model is not performing as intended \n",
        "import matplotlib.pyplot as plt\n",
        "\n",
        "cl_a, cl_b = 3, 5\n",
        "X_aa = X_train[(y_train == cl_a) & (y_train_pred == cl_a)] \n",
        "X_ab = X_train[(y_train == cl_a) & (y_train_pred == cl_b)] \n",
        "X_ba = X_train[(y_train == cl_b) & (y_train_pred == cl_a)] \n",
        "X_bb = X_train[(y_train == cl_b) & (y_train_pred == cl_b)]\n",
        "\n",
        "plt.figure(figsize=(8,8))\n",
        "plt.subplot(221); plot_digits(X_aa[:25], images_per_row=5) \n",
        "plt.subplot(222); plot_digits(X_ab[:25], images_per_row=5) \n",
        "plt.subplot(223); plot_digits(X_ba[:25], images_per_row=5) \n",
        "plt.subplot(224); plot_digits(X_bb[:25], images_per_row=5) \n",
        "plt.show()"
      ],
      "execution_count": 57,
      "outputs": [
        {
          "output_type": "display_data",
          "data": {
            "image/png": "[encoded data removed]",
            "text/plain": [
              "<Figure size 576x576 with 4 Axes>"
            ]
          },
          "metadata": {
            "tags": [],
            "needs_background": "light"
          }
        }
      ]
    },
    {
      "cell_type": "markdown",
      "metadata": {
        "id": "WCbCWzLVVJ6o",
        "colab_type": "text"
      },
      "source": [
        "# Multilabel Classification \n",
        "\n",
        "A classification system that outputs multiple binary tag is called a multilabel classification system. \n",
        "\n"
      ]
    },
    {
      "cell_type": "code",
      "metadata": {
        "id": "nuMroz17Vpt0",
        "colab_type": "code",
        "colab": {
          "base_uri": "https://localhost:8080/",
          "height": 70
        },
        "outputId": "bd30b8ec-c23a-4465-9574-0e8ec46863c9"
      },
      "source": [
        "\n",
        "from sklearn.neighbors import KNeighborsClassifier\n",
        "y_train_large = (y_train >= 7)\n",
        "y_train_odd = (y_train % 2 == 1)\n",
        "y_multilabel = np.c_[y_train_large, y_train_odd]\n",
        "knn_clf = KNeighborsClassifier()\n",
        "knn_clf.fit(X_train, y_multilabel)"
      ],
      "execution_count": 58,
      "outputs": [
        {
          "output_type": "execute_result",
          "data": {
            "text/plain": [
              "KNeighborsClassifier(algorithm='auto', leaf_size=30, metric='minkowski',\n",
              "                     metric_params=None, n_jobs=None, n_neighbors=5, p=2,\n",
              "                     weights='uniform')"
            ]
          },
          "metadata": {
            "tags": []
          },
          "execution_count": 58
        }
      ]
    },
    {
      "cell_type": "code",
      "metadata": {
        "id": "nMlq6JGJVrfm",
        "colab_type": "code",
        "colab": {
          "base_uri": "https://localhost:8080/",
          "height": 34
        },
        "outputId": "f0ae2b3d-e7a9-49c3-bdec-4eb8a5d88f40"
      },
      "source": [
        "knn_clf.predict([some_digit])"
      ],
      "execution_count": 59,
      "outputs": [
        {
          "output_type": "execute_result",
          "data": {
            "text/plain": [
              "array([[False,  True]])"
            ]
          },
          "metadata": {
            "tags": []
          },
          "execution_count": 59
        }
      ]
    },
    {
      "cell_type": "code",
      "metadata": {
        "id": "b2Ekx1tLOpZz",
        "colab_type": "code",
        "colab": {
          "base_uri": "https://localhost:8080/",
          "height": 222
        },
        "outputId": "e71584e3-fc51-4fbe-c8b1-8fd241e8ea17"
      },
      "source": [
        "from sklearn.model_selection import cross_val_predict\n",
        "\n",
        "y_train_knn_pred = cross_val_predict(knn_clf, X_train, y_multilabel, cv=3)\n",
        "f1_score(y_multilabel, y_train_knn_pred, average=\"macro\")"
      ],
      "execution_count": 2,
      "outputs": [
        {
          "output_type": "error",
          "ename": "NameError",
          "evalue": "ignored",
          "traceback": [
            "\u001b[0;31m---------------------------------------------------------------------------\u001b[0m",
            "\u001b[0;31mNameError\u001b[0m                                 Traceback (most recent call last)",
            "\u001b[0;32m<ipython-input-2-a90c240b82c3>\u001b[0m in \u001b[0;36m<module>\u001b[0;34m()\u001b[0m\n\u001b[1;32m      1\u001b[0m \u001b[0;32mfrom\u001b[0m \u001b[0msklearn\u001b[0m\u001b[0;34m.\u001b[0m\u001b[0mmodel_selection\u001b[0m \u001b[0;32mimport\u001b[0m \u001b[0mcross_val_predict\u001b[0m\u001b[0;34m\u001b[0m\u001b[0;34m\u001b[0m\u001b[0m\n\u001b[1;32m      2\u001b[0m \u001b[0;34m\u001b[0m\u001b[0m\n\u001b[0;32m----> 3\u001b[0;31m \u001b[0my_train_knn_pred\u001b[0m \u001b[0;34m=\u001b[0m \u001b[0mcross_val_predict\u001b[0m\u001b[0;34m(\u001b[0m\u001b[0mknn_clf\u001b[0m\u001b[0;34m,\u001b[0m \u001b[0mX_train\u001b[0m\u001b[0;34m,\u001b[0m \u001b[0my_multilabel\u001b[0m\u001b[0;34m,\u001b[0m \u001b[0mcv\u001b[0m\u001b[0;34m=\u001b[0m\u001b[0;36m3\u001b[0m\u001b[0;34m)\u001b[0m\u001b[0;34m\u001b[0m\u001b[0;34m\u001b[0m\u001b[0m\n\u001b[0m\u001b[1;32m      4\u001b[0m \u001b[0mf1_score\u001b[0m\u001b[0;34m(\u001b[0m\u001b[0my_multilabel\u001b[0m\u001b[0;34m,\u001b[0m \u001b[0my_train_knn_pred\u001b[0m\u001b[0;34m,\u001b[0m \u001b[0maverage\u001b[0m\u001b[0;34m=\u001b[0m\u001b[0;34m\"macro\"\u001b[0m\u001b[0;34m)\u001b[0m\u001b[0;34m\u001b[0m\u001b[0;34m\u001b[0m\u001b[0m\n",
            "\u001b[0;31mNameError\u001b[0m: name 'knn_clf' is not defined"
          ]
        }
      ]
    },
    {
      "cell_type": "code",
      "metadata": {
        "id": "ykbJb5FDV2tA",
        "colab_type": "code",
        "colab": {}
      },
      "source": [
        "def plot_digit(data):\n",
        "    image = data.reshape(28, 28)\n",
        "    plt.imshow(image, cmap = mpl.cm.binary,\n",
        "               interpolation=\"nearest\")\n",
        "    plt.axis(\"off\")"
      ],
      "execution_count": null,
      "outputs": []
    },
    {
      "cell_type": "markdown",
      "metadata": {
        "id": "5hDfBWpTWJwD",
        "colab_type": "text"
      },
      "source": [
        "# Multioutput Classification \n",
        "\n",
        "It is a generalizarion of multilabel classification where each label can be multiclass i.e it can have more than two possible values \n",
        "\n",
        "To show this here is a system that removes noise from images \n",
        "\n",
        "It will take in a noisy image and output a clean digit image \n"
      ]
    },
    {
      "cell_type": "code",
      "metadata": {
        "id": "7EfdQ4YeNYr3",
        "colab_type": "code",
        "colab": {}
      },
      "source": [
        ""
      ],
      "execution_count": null,
      "outputs": []
    },
    {
      "cell_type": "code",
      "metadata": {
        "id": "yIpAtb2FWUBG",
        "colab_type": "code",
        "colab": {}
      },
      "source": [
        "noise = np.random.randint(0, 100, (len(X_train), 784))\n",
        "X_train_mod = X_train + noise\n",
        "noise = np.random.randint(0, 100, (len(X_test), 784)) \n",
        "X_test_mod = X_test + noise\n",
        "y_train_mod = X_train y_test_mod = X_test\n"
      ],
      "execution_count": null,
      "outputs": []
    },
    {
      "cell_type": "code",
      "metadata": {
        "id": "ZcRQY_JbWYGu",
        "colab_type": "code",
        "colab": {}
      },
      "source": [
        "knn_clf.fit(X_train_mod, y_train_mod)\n",
        "clean_digit = knn_clf.predict([X_test_mod[some_index]])\n",
        "plot_digit(clean_digit)"
      ],
      "execution_count": null,
      "outputs": []
    },
    {
      "cell_type": "code",
      "metadata": {
        "id": "eWMIoGQvNbdG",
        "colab_type": "code",
        "colab": {}
      },
      "source": [
        ""
      ],
      "execution_count": null,
      "outputs": []
    }
  ]
}