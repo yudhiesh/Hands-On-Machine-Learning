{
  "nbformat": 4,
  "nbformat_minor": 0,
  "metadata": {
    "colab": {
      "name": "handsoMLCH7.ipynb",
      "provenance": [],
      "collapsed_sections": [],
      "machine_shape": "hm",
      "authorship_tag": "ABX9TyOn26WTVPmIsOiWzdYW6ueJ",
      "include_colab_link": true
    },
    "kernelspec": {
      "name": "python3",
      "display_name": "Python 3"
    },
    "accelerator": "GPU"
  },
  "cells": [
    {
      "cell_type": "markdown",
      "metadata": {
        "id": "view-in-github",
        "colab_type": "text"
      },
      "source": [
        "<a href=\"https://colab.research.google.com/github/yudhiesh1997/Hands-On-Machine-Learning/blob/master/handsoMLCH7.ipynb\" target=\"_parent\"><img src=\"https://colab.research.google.com/assets/colab-badge.svg\" alt=\"Open In Colab\"/></a>"
      ]
    },
    {
      "cell_type": "code",
      "metadata": {
        "id": "NfCbuctb9QI2",
        "colab_type": "code",
        "colab": {}
      },
      "source": [
        ""
      ],
      "execution_count": null,
      "outputs": []
    },
    {
      "cell_type": "markdown",
      "metadata": {
        "id": "VR6Jks6b9V4E",
        "colab_type": "text"
      },
      "source": [
        "# Ensemble Learning and Random Forest \n",
        "\n",
        "What if you pose a complex question to thousands of people, then aggregate their answers. In most cases the aggregated answer is better than the answer from an expert. This is called the *wisdom of the crowd*. \n",
        "\n",
        "Similarly, if you aggregate the predictions than with the best inndividual predictor. A group of predictos is called an *ensemble*, thus this tecnhique is called *Ensemble Learning*, and an Ensemble Learning algorithm is called an *Ensemble method*.\n",
        "\n",
        "An example would be traininng a group of Decision Tree classfiers, each on a different random subset of the training set. To make predictionns, you obtainn the predictions of all the indiviual trees, then predict the class that gets the most votes. Such an ensemble of decision trees is called a *Random Forest*, "
      ]
    },
    {
      "cell_type": "markdown",
      "metadata": {
        "id": "78DMT6fq_XB9",
        "colab_type": "text"
      },
      "source": [
        "## Voting Classifiers \n",
        "\n",
        "Say you have trained a few classifiers, each one achieving about 80% accuracy. You may have a Logistic Regression classifier, an SVM classfier, a Random Forest classfier, a K-Nearest Neighbors classifier and a few more.\n",
        "\n",
        "A simple way to create an even better classfier is to aggregate the predictions of each classifier and predict the class that gets the most votes. *i.e., the predictions with the most number of votes are chosen as the ensemble's prediction*.\n",
        "\n",
        "Even if each classfier is a weak learner(meaning it does slightly better than random guessing), the ensemble can still be a strong learner provided there are a sufficient number of weak learners and they are sufficiently diverse. \n",
        "\n",
        "#### How is this possible?\n",
        "\n",
        "Say you have a slightly biased coin that has a 51% chance of coming up heads and a 49% chance of coming up tails. If you toss it 1000 times, you will generally get mor or less 510 heads and 490 tails, and henve a majority heads. If you do the math the probability of obtaining a majority heads after 1000 tosses is close to 75%. The more you toss the coin the higher the probability it leans to the higher bias side of the coin. This is due to the concept of the *law of large numbers: as you keep tossing the coin, the ratio if heads gets closer and closer to the probability of heads (51%)*.\n",
        "\n",
        "With building an ensemble containg 1000 classifiers that are individually correct only 51% of the time (barely better than random guessing). \n",
        "\n",
        "**However this is only true if all classifiers are perfectly independant, making uncorrelated errors, which is cleary not the case because they are trained on the same data. They are likely to make the same errors, so there will be a majority votes for the wrong class, reducing the models accuracy.**\n",
        "\n",
        "**Ensemble methods work best when the predictors are as independennt from one another as possible. One way to get diverse classifers is to train them using very different algorithms. This increases the chance that they will make very different types of errors, imporvinng the ensemble's accuracy.**\n"
      ]
    },
    {
      "cell_type": "code",
      "metadata": {
        "id": "bXT7e9nw-mFB",
        "colab_type": "code",
        "colab": {}
      },
      "source": [
        "# Python ≥3.5 is required\n",
        "import sys\n",
        "assert sys.version_info >= (3, 5)\n",
        "\n",
        "# Scikit-Learn ≥0.20 is required\n",
        "import sklearn\n",
        "assert sklearn.__version__ >= \"0.20\"\n",
        "\n",
        "# Common imports\n",
        "import numpy as np\n",
        "import os\n",
        "\n",
        "# to make this notebook's output stable across runs\n",
        "np.random.seed(42)\n",
        "\n",
        "# To plot pretty figures\n",
        "%matplotlib inline\n",
        "import matplotlib as mpl\n",
        "import matplotlib.pyplot as plt\n",
        "mpl.rc('axes', labelsize=14)\n",
        "mpl.rc('xtick', labelsize=12)\n",
        "mpl.rc('ytick', labelsize=12)\n",
        "\n",
        "# Where to save the figures\n",
        "PROJECT_ROOT_DIR = \".\"\n",
        "CHAPTER_ID = \"ensembles\"\n",
        "IMAGES_PATH = os.path.join(PROJECT_ROOT_DIR, \"images\", CHAPTER_ID)\n",
        "os.makedirs(IMAGES_PATH, exist_ok=True)\n"
      ],
      "execution_count": 1,
      "outputs": []
    },
    {
      "cell_type": "code",
      "metadata": {
        "id": "auNGkJzZDs8V",
        "colab_type": "code",
        "colab": {}
      },
      "source": [
        "from sklearn.datasets import make_moons \n",
        "from sklearn.model_selection import train_test_split \n",
        "\n",
        "X,y = make_moons(n_samples=500, noise= 0.30, random_state=42)\n",
        "X_train, X_test, y_train, y_test = train_test_split(X,y, random_state=42)"
      ],
      "execution_count": 2,
      "outputs": []
    },
    {
      "cell_type": "code",
      "metadata": {
        "id": "4XO-lz8NE-6N",
        "colab_type": "code",
        "colab": {}
      },
      "source": [
        "from sklearn.ensemble import RandomForestClassifier\n",
        "from sklearn.linear_model import LogisticRegression\n",
        "from sklearn.ensemble import VotingClassifier\n",
        "from sklearn.svm import SVC\n",
        "\n",
        "log_clf = LogisticRegression(solver = \"lbfgs\", random_state=42)\n",
        "forest_clf = RandomForestClassifier(n_estimators=100, random_state=42)\n",
        "svc_clf = SVC(gamma=\"scale\", random_state=42)\n",
        "\n",
        "voting_clf = VotingClassifier(estimators=[('lr', log_clf), ('rf', forest_clf), ('svc_clf', svc_clf)], voting=\"hard\")"
      ],
      "execution_count": 3,
      "outputs": []
    },
    {
      "cell_type": "code",
      "metadata": {
        "id": "OzHpYzmUGgol",
        "colab_type": "code",
        "colab": {
          "base_uri": "https://localhost:8080/",
          "height": 496
        },
        "outputId": "8292890d-49ca-4567-d436-ebf107af734d"
      },
      "source": [
        "voting_clf.fit(X_train,y_train)"
      ],
      "execution_count": 4,
      "outputs": [
        {
          "output_type": "execute_result",
          "data": {
            "text/plain": [
              "VotingClassifier(estimators=[('lr',\n",
              "                              LogisticRegression(C=1.0, class_weight=None,\n",
              "                                                 dual=False, fit_intercept=True,\n",
              "                                                 intercept_scaling=1,\n",
              "                                                 l1_ratio=None, max_iter=100,\n",
              "                                                 multi_class='auto',\n",
              "                                                 n_jobs=None, penalty='l2',\n",
              "                                                 random_state=42,\n",
              "                                                 solver='lbfgs', tol=0.0001,\n",
              "                                                 verbose=0, warm_start=False)),\n",
              "                             ('rf',\n",
              "                              RandomForestClassifier(bootstrap=True,\n",
              "                                                     ccp_alpha=0.0,\n",
              "                                                     class_weight=None,\n",
              "                                                     crit...\n",
              "                                                     oob_score=False,\n",
              "                                                     random_state=42, verbose=0,\n",
              "                                                     warm_start=False)),\n",
              "                             ('svc_clf',\n",
              "                              SVC(C=1.0, break_ties=False, cache_size=200,\n",
              "                                  class_weight=None, coef0=0.0,\n",
              "                                  decision_function_shape='ovr', degree=3,\n",
              "                                  gamma='scale', kernel='rbf', max_iter=-1,\n",
              "                                  probability=False, random_state=42,\n",
              "                                  shrinking=True, tol=0.001, verbose=False))],\n",
              "                 flatten_transform=True, n_jobs=None, voting='hard',\n",
              "                 weights=None)"
            ]
          },
          "metadata": {
            "tags": []
          },
          "execution_count": 4
        }
      ]
    },
    {
      "cell_type": "code",
      "metadata": {
        "id": "MRmt1_pDGnRV",
        "colab_type": "code",
        "colab": {
          "base_uri": "https://localhost:8080/",
          "height": 87
        },
        "outputId": "adadb054-2586-4c8b-9c6d-ea5f272b84e2"
      },
      "source": [
        "from sklearn.metrics import accuracy_score \n",
        "\n",
        "for clf in (log_clf, forest_clf, svc_clf, voting_clf):\n",
        "  clf.fit(X_train, y_train)\n",
        "  y_pred = clf.predict(X_test)\n",
        "  print(f'{clf.__class__.__name__} {accuracy_score(y_test, y_pred)}')\n"
      ],
      "execution_count": 5,
      "outputs": [
        {
          "output_type": "stream",
          "text": [
            "LogisticRegression 0.864\n",
            "RandomForestClassifier 0.896\n",
            "SVC 0.896\n",
            "VotingClassifier 0.912\n"
          ],
          "name": "stdout"
        }
      ]
    },
    {
      "cell_type": "code",
      "metadata": {
        "id": "4LGNv0mDHWR4",
        "colab_type": "code",
        "colab": {}
      },
      "source": [
        "## Soft voting \n",
        "\n",
        "log_clf = LogisticRegression(solver=\"lbfgs\", random_state=42)\n",
        "rf_clf = RandomForestClassifier(n_estimators=100, random_state=42)\n",
        "svc = SVC(gamma=\"scale\", random_state=42, probability=True)\n",
        "voting2_clf = VotingClassifier(estimators=[('lr', log_clf), ('rf', rf_clf), ('svc', svc)], voting=\"soft\")"
      ],
      "execution_count": 6,
      "outputs": []
    },
    {
      "cell_type": "code",
      "metadata": {
        "id": "4wto31WEIlmW",
        "colab_type": "code",
        "colab": {
          "base_uri": "https://localhost:8080/",
          "height": 496
        },
        "outputId": "51654e3e-f98a-4c31-e600-a86d30e7348a"
      },
      "source": [
        "voting2_clf.fit(X_train, y_train)"
      ],
      "execution_count": 7,
      "outputs": [
        {
          "output_type": "execute_result",
          "data": {
            "text/plain": [
              "VotingClassifier(estimators=[('lr',\n",
              "                              LogisticRegression(C=1.0, class_weight=None,\n",
              "                                                 dual=False, fit_intercept=True,\n",
              "                                                 intercept_scaling=1,\n",
              "                                                 l1_ratio=None, max_iter=100,\n",
              "                                                 multi_class='auto',\n",
              "                                                 n_jobs=None, penalty='l2',\n",
              "                                                 random_state=42,\n",
              "                                                 solver='lbfgs', tol=0.0001,\n",
              "                                                 verbose=0, warm_start=False)),\n",
              "                             ('rf',\n",
              "                              RandomForestClassifier(bootstrap=True,\n",
              "                                                     ccp_alpha=0.0,\n",
              "                                                     class_weight=None,\n",
              "                                                     crit...\n",
              "                                                     oob_score=False,\n",
              "                                                     random_state=42, verbose=0,\n",
              "                                                     warm_start=False)),\n",
              "                             ('svc',\n",
              "                              SVC(C=1.0, break_ties=False, cache_size=200,\n",
              "                                  class_weight=None, coef0=0.0,\n",
              "                                  decision_function_shape='ovr', degree=3,\n",
              "                                  gamma='scale', kernel='rbf', max_iter=-1,\n",
              "                                  probability=True, random_state=42,\n",
              "                                  shrinking=True, tol=0.001, verbose=False))],\n",
              "                 flatten_transform=True, n_jobs=None, voting='soft',\n",
              "                 weights=None)"
            ]
          },
          "metadata": {
            "tags": []
          },
          "execution_count": 7
        }
      ]
    },
    {
      "cell_type": "code",
      "metadata": {
        "id": "XOir0lvKIfpE",
        "colab_type": "code",
        "colab": {
          "base_uri": "https://localhost:8080/",
          "height": 87
        },
        "outputId": "ca1d43a3-c9e4-4d83-9407-4b98ea4e95b4"
      },
      "source": [
        "for clf in (log_clf, rf_clf, svc, voting2_clf):\n",
        "  clf.fit(X_train, y_train)\n",
        "  y_pred = clf.predict(X_test)\n",
        "  print(f'{clf.__class__.__name__} {accuracy_score(y_test, y_pred)}')\n",
        "  "
      ],
      "execution_count": 8,
      "outputs": [
        {
          "output_type": "stream",
          "text": [
            "LogisticRegression 0.864\n",
            "RandomForestClassifier 0.896\n",
            "SVC 0.896\n",
            "VotingClassifier 0.92\n"
          ],
          "name": "stdout"
        }
      ]
    },
    {
      "cell_type": "markdown",
      "metadata": {
        "id": "5dEdFb_2JtAE",
        "colab_type": "text"
      },
      "source": [
        "## Bagging and Pasting \n",
        "\n",
        "One way to get a diverse set of classifiers is to use very different training algorithms, as just discussed. Another approach is to use the same training algorithm for every predictor and train them on different random subsets of the training set. When sampling is perfomed with replacement, this methods is called ***bagging***. When samping is performed without replacement it is called  ***pasting***.\n",
        "\n",
        "Once all predictors are trained, the ensemble can make a prediction for a new instance by simply aggregating the predictions of all predictors. The aggregation function is typicall the statistical mode or the most frequent prediction just like a hard voting classifier for a classification task or the average for a regression task. \n",
        "\n",
        "Each individual predictor has a higher bias than if it were trained on the original training set, but aggregation reduces both bias and variance. Generally, the net result is that the ensemble has a similar bias but a lower variance than a single predictor trained on the original training set. \n",
        "\n",
        "## Bagging Ensemble "
      ]
    },
    {
      "cell_type": "code",
      "metadata": {
        "id": "rRQ9CR-ZJOgz",
        "colab_type": "code",
        "colab": {}
      },
      "source": [
        "from sklearn.ensemble import BaggingClassifier\n",
        "from sklearn.tree import DecisionTreeClassifier\n",
        "\n",
        "bag_clf = BaggingClassifier(\n",
        "    DecisionTreeClassifier(random_state=42), n_estimators=500,\n",
        "    max_samples=100, bootstrap=True, random_state=42)\n",
        "bag_clf.fit(X_train, y_train)\n",
        "y_pred_bagging = bag_clf.predict(X_test)"
      ],
      "execution_count": 9,
      "outputs": []
    },
    {
      "cell_type": "code",
      "metadata": {
        "id": "LOW64xCDUvAV",
        "colab_type": "code",
        "colab": {
          "base_uri": "https://localhost:8080/",
          "height": 34
        },
        "outputId": "46cdfbd0-a90f-47de-82c5-65b84b852f57"
      },
      "source": [
        "accuracy_score(y_test, y_pred_bagging)"
      ],
      "execution_count": 10,
      "outputs": [
        {
          "output_type": "execute_result",
          "data": {
            "text/plain": [
              "0.904"
            ]
          },
          "metadata": {
            "tags": []
          },
          "execution_count": 10
        }
      ]
    },
    {
      "cell_type": "code",
      "metadata": {
        "id": "eSUGmKSkUzKS",
        "colab_type": "code",
        "colab": {
          "base_uri": "https://localhost:8080/",
          "height": 34
        },
        "outputId": "cf40c7c1-404b-4e85-f59a-8fa0f00ee261"
      },
      "source": [
        "tree_clf = DecisionTreeClassifier(random_state=42)\n",
        "tree_clf.fit(X_train, y_train)\n",
        "y_tree_pred = tree_clf.predict(X_test)\n",
        "accuracy_score(y_test, y_tree_pred)\n"
      ],
      "execution_count": 11,
      "outputs": [
        {
          "output_type": "execute_result",
          "data": {
            "text/plain": [
              "0.856"
            ]
          },
          "metadata": {
            "tags": []
          },
          "execution_count": 11
        }
      ]
    },
    {
      "cell_type": "code",
      "metadata": {
        "id": "4h0w8bntVEhb",
        "colab_type": "code",
        "colab": {}
      },
      "source": [
        "from matplotlib.colors import ListedColormap\n",
        "\n",
        "def plot_decision_boundary(clf, X, y, axes=[-1.5, 2.45, -1, 1.5], alpha=0.5, contour=True):\n",
        "    x1s = np.linspace(axes[0], axes[1], 100)\n",
        "    x2s = np.linspace(axes[2], axes[3], 100)\n",
        "    x1, x2 = np.meshgrid(x1s, x2s)\n",
        "    X_new = np.c_[x1.ravel(), x2.ravel()]\n",
        "    y_pred = clf.predict(X_new).reshape(x1.shape)\n",
        "    custom_cmap = ListedColormap(['#fafab0','#9898ff','#a0faa0'])\n",
        "    plt.contourf(x1, x2, y_pred, alpha=0.3, cmap=custom_cmap)\n",
        "    if contour:\n",
        "        custom_cmap2 = ListedColormap(['#7d7d58','#4c4c7f','#507d50'])\n",
        "        plt.contour(x1, x2, y_pred, cmap=custom_cmap2, alpha=0.8)\n",
        "    plt.plot(X[:, 0][y==0], X[:, 1][y==0], \"yo\", alpha=alpha)\n",
        "    plt.plot(X[:, 0][y==1], X[:, 1][y==1], \"bs\", alpha=alpha)\n",
        "    plt.axis(axes)\n",
        "    plt.xlabel(r\"$x_1$\", fontsize=18)\n",
        "    plt.ylabel(r\"$x_2$\", fontsize=18, rotation=0)"
      ],
      "execution_count": 12,
      "outputs": []
    },
    {
      "cell_type": "code",
      "metadata": {
        "id": "pT8ItbI_Vdzn",
        "colab_type": "code",
        "colab": {
          "base_uri": "https://localhost:8080/",
          "height": 306
        },
        "outputId": "7e928afd-4864-4190-b8bb-284d55337ca9"
      },
      "source": [
        "fix, axes = plt.subplots(ncols=2, figsize=(10,4), sharey=True)\n",
        "plt.sca(axes[0])\n",
        "plot_decision_boundary(tree_clf, X, y)\n",
        "plt.title(\"Decision Tree\", fontsize=14)\n",
        "plt.sca(axes[1])\n",
        "plot_decision_boundary(bag_clf, X, y)\n",
        "plt.title(\"Decision Trees with Bagging\", fontsize=14)\n",
        "plt.ylabel(\"\")\n",
        "plt.show()"
      ],
      "execution_count": 13,
      "outputs": [
        {
          "output_type": "display_data",
          "data": {
            "image/png": "[encoded data removed]",
            "text/plain": [
              "<Figure size 720x288 with 2 Axes>"
            ]
          },
          "metadata": {
            "tags": [],
            "needs_background": "light"
          }
        }
      ]
    },
    {
      "cell_type": "markdown",
      "metadata": {
        "id": "ucX5CEhsVix3",
        "colab_type": "text"
      },
      "source": [
        "As you can see the ensemble model seems to generalize better than the single Decision Tree's predictions: the ensemble has a comparable bias but a smaller variance (it makes roughly the same number of errors on the training set, but the decision boundary is less irregular). \n",
        "\n",
        "Bootstrapping introduces a bit more diversity in the subsets that each predictor is trained on, so bagging ends up with a slightly higher bias than pasting; but the extra diversity also means that the predictors end up being less correlated, so the ensemble's variance is reduced. Overall, bagging often results in better models, which explains why it is gerally preferred. "
      ]
    },
    {
      "cell_type": "markdown",
      "metadata": {
        "id": "2Hw_NrCgTrAB",
        "colab_type": "text"
      },
      "source": [
        "## Out-of-Bag Evaluation \n",
        "\n",
        "With *bagging* some instances may be sampled several times for any given predictor while others may not be sampled at all. \n",
        "\n",
        "By default a BaggingClassifier samples *m* training instances with replacement. \n",
        "\n",
        "This means that only 63% of the data is actually sampled on average for each predictor and the other 37% are called *out-of-Bag(oob)* instances. \n",
        "\n",
        "With this we can actually use the oob instances to perform oob evaluation without the need for a seperate validation set. "
      ]
    },
    {
      "cell_type": "code",
      "metadata": {
        "id": "yY3KGwXhVhA2",
        "colab_type": "code",
        "colab": {
          "base_uri": "https://localhost:8080/",
          "height": 34
        },
        "outputId": "e6fbb97f-fbff-4bfd-9b84-09b0ad934c26"
      },
      "source": [
        "bag_clf_oob = BaggingClassifier(\n",
        "    DecisionTreeClassifier(), n_estimators = 500,\n",
        "    bootstrap=True, n_jobs=-1, oob_score=True\n",
        ")\n",
        "bag_clf_oob.fit(X_train,y_train)\n",
        "print(f'oob prediction :{bag_clf_oob.oob_score_}')"
      ],
      "execution_count": 14,
      "outputs": [
        {
          "output_type": "stream",
          "text": [
            "oob prediction :0.8986666666666666\n"
          ],
          "name": "stdout"
        }
      ]
    },
    {
      "cell_type": "code",
      "metadata": {
        "id": "RVVaTep9Uw8-",
        "colab_type": "code",
        "colab": {
          "base_uri": "https://localhost:8080/",
          "height": 34
        },
        "outputId": "db173be0-cc90-4dcb-f97b-c9a94e6beb1e"
      },
      "source": [
        "y_pred = bag_clf.predict(X_test)\n",
        "print(f'Actual accuracy: {accuracy_score(y_test, y_pred)}')"
      ],
      "execution_count": 15,
      "outputs": [
        {
          "output_type": "stream",
          "text": [
            "Actual accuracy: 0.904\n"
          ],
          "name": "stdout"
        }
      ]
    },
    {
      "cell_type": "markdown",
      "metadata": {
        "id": "gdxNfC3VVMDa",
        "colab_type": "text"
      },
      "source": [
        "According to the oob score the classifier will achieve about 90% and it actually gets 91%"
      ]
    },
    {
      "cell_type": "code",
      "metadata": {
        "id": "Wmhwrq2cVKe-",
        "colab_type": "code",
        "colab": {
          "base_uri": "https://localhost:8080/",
          "height": 1000
        },
        "outputId": "2ca9485d-d156-4ba2-fbfe-d09f5511830a"
      },
      "source": [
        "print(f' Decision function (predictions for each class):')\n",
        "bag_clf_oob.oob_decision_function_"
      ],
      "execution_count": 16,
      "outputs": [
        {
          "output_type": "stream",
          "text": [
            " Decision function (predictions for each class):\n"
          ],
          "name": "stdout"
        },
        {
          "output_type": "execute_result",
          "data": {
            "text/plain": [
              "array([[0.32352941, 0.67647059],\n",
              "       [0.35625   , 0.64375   ],\n",
              "       [1.        , 0.        ],\n",
              "       [0.        , 1.        ],\n",
              "       [0.        , 1.        ],\n",
              "       [0.06145251, 0.93854749],\n",
              "       [0.35465116, 0.64534884],\n",
              "       [0.01142857, 0.98857143],\n",
              "       [0.98930481, 0.01069519],\n",
              "       [0.97409326, 0.02590674],\n",
              "       [0.7370892 , 0.2629108 ],\n",
              "       [0.0049505 , 0.9950495 ],\n",
              "       [0.75      , 0.25      ],\n",
              "       [0.82681564, 0.17318436],\n",
              "       [0.98461538, 0.01538462],\n",
              "       [0.06315789, 0.93684211],\n",
              "       [0.00490196, 0.99509804],\n",
              "       [0.99004975, 0.00995025],\n",
              "       [0.92513369, 0.07486631],\n",
              "       [1.        , 0.        ],\n",
              "       [0.03409091, 0.96590909],\n",
              "       [0.34502924, 0.65497076],\n",
              "       [0.91666667, 0.08333333],\n",
              "       [1.        , 0.        ],\n",
              "       [0.96319018, 0.03680982],\n",
              "       [0.        , 1.        ],\n",
              "       [1.        , 0.        ],\n",
              "       [1.        , 0.        ],\n",
              "       [0.        , 1.        ],\n",
              "       [0.65420561, 0.34579439],\n",
              "       [0.        , 1.        ],\n",
              "       [1.        , 0.        ],\n",
              "       [0.0049505 , 0.9950495 ],\n",
              "       [0.        , 1.        ],\n",
              "       [0.19148936, 0.80851064],\n",
              "       [1.        , 0.        ],\n",
              "       [0.00591716, 0.99408284],\n",
              "       [0.39751553, 0.60248447],\n",
              "       [0.        , 1.        ],\n",
              "       [1.        , 0.        ],\n",
              "       [0.23463687, 0.76536313],\n",
              "       [0.32777778, 0.67222222],\n",
              "       [1.        , 0.        ],\n",
              "       [1.        , 0.        ],\n",
              "       [0.        , 1.        ],\n",
              "       [1.        , 0.        ],\n",
              "       [1.        , 0.        ],\n",
              "       [0.02906977, 0.97093023],\n",
              "       [1.        , 0.        ],\n",
              "       [0.01183432, 0.98816568],\n",
              "       [0.97916667, 0.02083333],\n",
              "       [0.88297872, 0.11702128],\n",
              "       [0.94054054, 0.05945946],\n",
              "       [0.9558011 , 0.0441989 ],\n",
              "       [0.        , 1.        ],\n",
              "       [0.06122449, 0.93877551],\n",
              "       [0.98026316, 0.01973684],\n",
              "       [0.        , 1.        ],\n",
              "       [0.        , 1.        ],\n",
              "       [0.01005025, 0.98994975],\n",
              "       [0.98857143, 0.01142857],\n",
              "       [0.81868132, 0.18131868],\n",
              "       [0.45303867, 0.54696133],\n",
              "       [1.        , 0.        ],\n",
              "       [0.        , 1.        ],\n",
              "       [0.70860927, 0.29139073],\n",
              "       [1.        , 0.        ],\n",
              "       [1.        , 0.        ],\n",
              "       [0.84745763, 0.15254237],\n",
              "       [1.        , 0.        ],\n",
              "       [0.60526316, 0.39473684],\n",
              "       [0.12222222, 0.87777778],\n",
              "       [0.6284153 , 0.3715847 ],\n",
              "       [0.9017341 , 0.0982659 ],\n",
              "       [0.        , 1.        ],\n",
              "       [0.17204301, 0.82795699],\n",
              "       [0.90055249, 0.09944751],\n",
              "       [1.        , 0.        ],\n",
              "       [0.        , 1.        ],\n",
              "       [1.        , 0.        ],\n",
              "       [0.00540541, 0.99459459],\n",
              "       [0.05780347, 0.94219653],\n",
              "       [0.02312139, 0.97687861],\n",
              "       [0.34337349, 0.65662651],\n",
              "       [1.        , 0.        ],\n",
              "       [0.        , 1.        ],\n",
              "       [0.82954545, 0.17045455],\n",
              "       [0.        , 1.        ],\n",
              "       [0.        , 1.        ],\n",
              "       [0.        , 1.        ],\n",
              "       [0.21276596, 0.78723404],\n",
              "       [1.        , 0.        ],\n",
              "       [0.        , 1.        ],\n",
              "       [0.        , 1.        ],\n",
              "       [0.        , 1.        ],\n",
              "       [0.95811518, 0.04188482],\n",
              "       [0.81675393, 0.18324607],\n",
              "       [0.        , 1.        ],\n",
              "       [1.        , 0.        ],\n",
              "       [0.25274725, 0.74725275],\n",
              "       [0.56470588, 0.43529412],\n",
              "       [0.        , 1.        ],\n",
              "       [0.04255319, 0.95744681],\n",
              "       [0.50543478, 0.49456522],\n",
              "       [1.        , 0.        ],\n",
              "       [0.01704545, 0.98295455],\n",
              "       [0.98913043, 0.01086957],\n",
              "       [0.20903955, 0.79096045],\n",
              "       [0.44692737, 0.55307263],\n",
              "       [1.        , 0.        ],\n",
              "       [0.01570681, 0.98429319],\n",
              "       [0.98901099, 0.01098901],\n",
              "       [0.25698324, 0.74301676],\n",
              "       [0.87719298, 0.12280702],\n",
              "       [1.        , 0.        ],\n",
              "       [1.        , 0.        ],\n",
              "       [0.        , 1.        ],\n",
              "       [0.        , 1.        ],\n",
              "       [0.78285714, 0.21714286],\n",
              "       [1.        , 0.        ],\n",
              "       [0.00578035, 0.99421965],\n",
              "       [1.        , 0.        ],\n",
              "       [1.        , 0.        ],\n",
              "       [1.        , 0.        ],\n",
              "       [0.98895028, 0.01104972],\n",
              "       [0.99447514, 0.00552486],\n",
              "       [0.        , 1.        ],\n",
              "       [0.96039604, 0.03960396],\n",
              "       [0.99497487, 0.00502513],\n",
              "       [0.01092896, 0.98907104],\n",
              "       [0.15662651, 0.84337349],\n",
              "       [0.95918367, 0.04081633],\n",
              "       [0.32727273, 0.67272727],\n",
              "       [0.98924731, 0.01075269],\n",
              "       [0.        , 1.        ],\n",
              "       [0.        , 1.        ],\n",
              "       [0.7251462 , 0.2748538 ],\n",
              "       [0.35632184, 0.64367816],\n",
              "       [0.4       , 0.6       ],\n",
              "       [0.85326087, 0.14673913],\n",
              "       [0.95918367, 0.04081633],\n",
              "       [0.06878307, 0.93121693],\n",
              "       [0.8030303 , 0.1969697 ],\n",
              "       [0.        , 1.        ],\n",
              "       [0.        , 1.        ],\n",
              "       [0.03508772, 0.96491228],\n",
              "       [0.98342541, 0.01657459],\n",
              "       [1.        , 0.        ],\n",
              "       [1.        , 0.        ],\n",
              "       [0.0052356 , 0.9947644 ],\n",
              "       [0.        , 1.        ],\n",
              "       [0.01932367, 0.98067633],\n",
              "       [0.        , 1.        ],\n",
              "       [1.        , 0.        ],\n",
              "       [1.        , 0.        ],\n",
              "       [0.95402299, 0.04597701],\n",
              "       [1.        , 0.        ],\n",
              "       [1.        , 0.        ],\n",
              "       [1.        , 0.        ],\n",
              "       [0.        , 1.        ],\n",
              "       [0.38674033, 0.61325967],\n",
              "       [0.27717391, 0.72282609],\n",
              "       [0.01117318, 0.98882682],\n",
              "       [0.        , 1.        ],\n",
              "       [0.30729167, 0.69270833],\n",
              "       [1.        , 0.        ],\n",
              "       [0.99378882, 0.00621118],\n",
              "       [0.        , 1.        ],\n",
              "       [1.        , 0.        ],\n",
              "       [0.        , 1.        ],\n",
              "       [0.        , 1.        ],\n",
              "       [0.98295455, 0.01704545],\n",
              "       [0.        , 1.        ],\n",
              "       [0.        , 1.        ],\n",
              "       [1.        , 0.        ],\n",
              "       [0.00502513, 0.99497487],\n",
              "       [0.61271676, 0.38728324],\n",
              "       [0.91747573, 0.08252427],\n",
              "       [0.        , 1.        ],\n",
              "       [1.        , 0.        ],\n",
              "       [0.99516908, 0.00483092],\n",
              "       [1.        , 0.        ],\n",
              "       [0.        , 1.        ],\n",
              "       [0.        , 1.        ],\n",
              "       [1.        , 0.        ],\n",
              "       [0.06930693, 0.93069307],\n",
              "       [1.        , 0.        ],\n",
              "       [0.05405405, 0.94594595],\n",
              "       [0.        , 1.        ],\n",
              "       [1.        , 0.        ],\n",
              "       [0.        , 1.        ],\n",
              "       [0.04294479, 0.95705521],\n",
              "       [1.        , 0.        ],\n",
              "       [0.93229167, 0.06770833],\n",
              "       [0.73295455, 0.26704545],\n",
              "       [0.61212121, 0.38787879],\n",
              "       [0.        , 1.        ],\n",
              "       [0.12244898, 0.87755102],\n",
              "       [1.        , 0.        ],\n",
              "       [0.95731707, 0.04268293],\n",
              "       [0.96855346, 0.03144654],\n",
              "       [1.        , 0.        ],\n",
              "       [0.02272727, 0.97727273],\n",
              "       [0.        , 1.        ],\n",
              "       [0.39664804, 0.60335196],\n",
              "       [0.85082873, 0.14917127],\n",
              "       [0.        , 1.        ],\n",
              "       [0.        , 1.        ],\n",
              "       [0.99408284, 0.00591716],\n",
              "       [0.00520833, 0.99479167],\n",
              "       [0.00540541, 0.99459459],\n",
              "       [0.96111111, 0.03888889],\n",
              "       [0.        , 1.        ],\n",
              "       [0.30808081, 0.69191919],\n",
              "       [0.        , 1.        ],\n",
              "       [1.        , 0.        ],\n",
              "       [0.00595238, 0.99404762],\n",
              "       [0.        , 1.        ],\n",
              "       [0.96236559, 0.03763441],\n",
              "       [0.80246914, 0.19753086],\n",
              "       [0.995     , 0.005     ],\n",
              "       [0.00543478, 0.99456522],\n",
              "       [0.04411765, 0.95588235],\n",
              "       [1.        , 0.        ],\n",
              "       [0.02808989, 0.97191011],\n",
              "       [0.        , 1.        ],\n",
              "       [0.05405405, 0.94594595],\n",
              "       [1.        , 0.        ],\n",
              "       [0.83888889, 0.16111111],\n",
              "       [0.        , 1.        ],\n",
              "       [0.8988764 , 0.1011236 ],\n",
              "       [0.99450549, 0.00549451],\n",
              "       [0.18857143, 0.81142857],\n",
              "       [0.22651934, 0.77348066],\n",
              "       [1.        , 0.        ],\n",
              "       [0.        , 1.        ],\n",
              "       [0.00549451, 0.99450549],\n",
              "       [0.        , 1.        ],\n",
              "       [0.23684211, 0.76315789],\n",
              "       [0.95744681, 0.04255319],\n",
              "       [0.00507614, 0.99492386],\n",
              "       [1.        , 0.        ],\n",
              "       [1.        , 0.        ],\n",
              "       [0.        , 1.        ],\n",
              "       [0.43956044, 0.56043956],\n",
              "       [1.        , 0.        ],\n",
              "       [0.        , 1.        ],\n",
              "       [1.        , 0.        ],\n",
              "       [0.        , 1.        ],\n",
              "       [0.        , 1.        ],\n",
              "       [0.04712042, 0.95287958],\n",
              "       [0.0982659 , 0.9017341 ],\n",
              "       [0.97959184, 0.02040816],\n",
              "       [0.02185792, 0.97814208],\n",
              "       [1.        , 0.        ],\n",
              "       [0.35106383, 0.64893617],\n",
              "       [0.13793103, 0.86206897],\n",
              "       [0.54891304, 0.45108696],\n",
              "       [0.65656566, 0.34343434],\n",
              "       [0.00558659, 0.99441341],\n",
              "       [1.        , 0.        ],\n",
              "       [0.        , 1.        ],\n",
              "       [0.        , 1.        ],\n",
              "       [0.64622642, 0.35377358],\n",
              "       [0.        , 1.        ],\n",
              "       [1.        , 0.        ],\n",
              "       [0.22164948, 0.77835052],\n",
              "       [0.81094527, 0.18905473],\n",
              "       [0.03012048, 0.96987952],\n",
              "       [1.        , 0.        ],\n",
              "       [0.86387435, 0.13612565],\n",
              "       [0.        , 1.        ],\n",
              "       [0.00518135, 0.99481865],\n",
              "       [0.09137056, 0.90862944],\n",
              "       [0.00598802, 0.99401198],\n",
              "       [0.        , 1.        ],\n",
              "       [1.        , 0.        ],\n",
              "       [0.94318182, 0.05681818],\n",
              "       [0.15697674, 0.84302326],\n",
              "       [0.95897436, 0.04102564],\n",
              "       [0.01630435, 0.98369565],\n",
              "       [0.57923497, 0.42076503],\n",
              "       [0.07526882, 0.92473118],\n",
              "       [1.        , 0.        ],\n",
              "       [0.78723404, 0.21276596],\n",
              "       [0.        , 1.        ],\n",
              "       [1.        , 0.        ],\n",
              "       [0.93684211, 0.06315789],\n",
              "       [0.        , 1.        ],\n",
              "       [0.        , 1.        ],\n",
              "       [1.        , 0.        ],\n",
              "       [0.        , 1.        ],\n",
              "       [1.        , 0.        ],\n",
              "       [0.23560209, 0.76439791],\n",
              "       [0.99418605, 0.00581395],\n",
              "       [1.        , 0.        ],\n",
              "       [0.        , 1.        ],\n",
              "       [0.        , 1.        ],\n",
              "       [0.84831461, 0.15168539],\n",
              "       [0.        , 1.        ],\n",
              "       [1.        , 0.        ],\n",
              "       [0.78723404, 0.21276596],\n",
              "       [0.92391304, 0.07608696],\n",
              "       [1.        , 0.        ],\n",
              "       [0.68852459, 0.31147541],\n",
              "       [0.4973262 , 0.5026738 ],\n",
              "       [0.        , 1.        ],\n",
              "       [0.88953488, 0.11046512],\n",
              "       [0.        , 1.        ],\n",
              "       [1.        , 0.        ],\n",
              "       [0.9010989 , 0.0989011 ],\n",
              "       [1.        , 0.        ],\n",
              "       [1.        , 0.        ],\n",
              "       [0.72636816, 0.27363184],\n",
              "       [0.10227273, 0.89772727],\n",
              "       [0.47560976, 0.52439024],\n",
              "       [0.24210526, 0.75789474],\n",
              "       [0.        , 1.        ],\n",
              "       [0.84782609, 0.15217391],\n",
              "       [0.80927835, 0.19072165],\n",
              "       [0.        , 1.        ],\n",
              "       [1.        , 0.        ],\n",
              "       [0.99465241, 0.00534759],\n",
              "       [1.        , 0.        ],\n",
              "       [0.        , 1.        ],\n",
              "       [0.03431373, 0.96568627],\n",
              "       [0.95959596, 0.04040404],\n",
              "       [0.94797688, 0.05202312],\n",
              "       [1.        , 0.        ],\n",
              "       [0.52542373, 0.47457627],\n",
              "       [1.        , 0.        ],\n",
              "       [0.0106383 , 0.9893617 ],\n",
              "       [0.99453552, 0.00546448],\n",
              "       [0.02659574, 0.97340426],\n",
              "       [1.        , 0.        ],\n",
              "       [1.        , 0.        ],\n",
              "       [1.        , 0.        ],\n",
              "       [0.        , 1.        ],\n",
              "       [0.98275862, 0.01724138],\n",
              "       [0.        , 1.        ],\n",
              "       [0.07894737, 0.92105263],\n",
              "       [0.        , 1.        ],\n",
              "       [0.        , 1.        ],\n",
              "       [1.        , 0.        ],\n",
              "       [1.        , 0.        ],\n",
              "       [0.        , 1.        ],\n",
              "       [1.        , 0.        ],\n",
              "       [0.00564972, 0.99435028],\n",
              "       [1.        , 0.        ],\n",
              "       [0.13559322, 0.86440678],\n",
              "       [0.        , 1.        ],\n",
              "       [0.        , 1.        ],\n",
              "       [0.        , 1.        ],\n",
              "       [0.37125749, 0.62874251],\n",
              "       [0.0923913 , 0.9076087 ],\n",
              "       [0.23255814, 0.76744186],\n",
              "       [1.        , 0.        ],\n",
              "       [0.98181818, 0.01818182],\n",
              "       [0.17777778, 0.82222222],\n",
              "       [0.9902439 , 0.0097561 ],\n",
              "       [0.        , 1.        ],\n",
              "       [0.        , 1.        ],\n",
              "       [1.        , 0.        ],\n",
              "       [0.96511628, 0.03488372],\n",
              "       [0.33714286, 0.66285714],\n",
              "       [0.98843931, 0.01156069],\n",
              "       [1.        , 0.        ],\n",
              "       [0.        , 1.        ],\n",
              "       [1.        , 0.        ],\n",
              "       [0.        , 1.        ],\n",
              "       [0.02139037, 0.97860963],\n",
              "       [1.        , 0.        ],\n",
              "       [1.        , 0.        ],\n",
              "       [0.03076923, 0.96923077],\n",
              "       [0.64516129, 0.35483871]])"
            ]
          },
          "metadata": {
            "tags": []
          },
          "execution_count": 16
        }
      ]
    },
    {
      "cell_type": "markdown",
      "metadata": {
        "id": "tql7CO2saWll",
        "colab_type": "text"
      },
      "source": [
        "## Random Patch and Random Subspaces\n",
        "\n",
        "The BaggingClassifier also supports sampling random features. \n",
        "\n",
        "Sampling of features is controlled by two hyperparameters *max_features* and *bootstrap_features*.\n",
        "\n",
        "This technique is particularly useful when you are dealing with high-dimensional inputs such as images. \n",
        "\n",
        "Sampling features results in even more predictor diversity, trading a bit more bias for a lower variance. "
      ]
    },
    {
      "cell_type": "markdown",
      "metadata": {
        "id": "rYMd1MfPbaxq",
        "colab_type": "text"
      },
      "source": [
        "## Random Forests\n",
        "\n",
        "A Random Forest is an ensemble of Decision Trees \n",
        "\n",
        "The Random Forest algorithm introdues extra randomness when growing trees; instead of searching for the very best feature when splitting a node, it searches for the best feature among a random subset of features. \n",
        "\n",
        "The algorithm results in greater tree diversity, which trades a higher bias for a lower variance which generally yields a better model.\n",
        "\n"
      ]
    },
    {
      "cell_type": "code",
      "metadata": {
        "id": "zANCL069Vx3r",
        "colab_type": "code",
        "colab": {}
      },
      "source": [
        "rnd_clf = RandomForestClassifier(n_estimators=500, max_leaf_nodes=16, n_jobs=-1)\n",
        "rnd_clf.fit(X_train, y_train) \n",
        "y_pred_rf = rnd_clf.predict(X_test)"
      ],
      "execution_count": 17,
      "outputs": []
    },
    {
      "cell_type": "code",
      "metadata": {
        "id": "cU9SlJKZbbWl",
        "colab_type": "code",
        "colab": {
          "base_uri": "https://localhost:8080/",
          "height": 34
        },
        "outputId": "627d3a3a-f7ec-49e7-fbeb-3fd6a279fd48"
      },
      "source": [
        "accuracy_score(y_test, y_pred)"
      ],
      "execution_count": 18,
      "outputs": [
        {
          "output_type": "execute_result",
          "data": {
            "text/plain": [
              "0.904"
            ]
          },
          "metadata": {
            "tags": []
          },
          "execution_count": 18
        }
      ]
    },
    {
      "cell_type": "markdown",
      "metadata": {
        "id": "ERoaEV5ycyJe",
        "colab_type": "text"
      },
      "source": [
        "## Extremely Randomized Trees\n",
        "\n",
        "When training a Random Forest, at each not only a random subset of the features is considered for splitting the trees. It is possible to make the trees even more random by setting a random threshold for each feature instead of the best possible feature.\n",
        "\n",
        "This technique trades in a higher bias for a lower variance and it is also **faster to train** than a regular Random Forest as finding the best possible feature at each node is the most time consuming task. "
      ]
    },
    {
      "cell_type": "markdown",
      "metadata": {
        "id": "Ck2rdITCd0eg",
        "colab_type": "text"
      },
      "source": [
        "## Feature Importance \n",
        "\n",
        "Random Forest make it easy to measure the importance of a certain feature. \n",
        "\n",
        "Scikit-Learn does this by looking at how much the tree nodes that use that feature reduce the impurity on average across all trees in the forest. \n",
        "\n",
        "More precisely, it is a weighted average, where each node's weight is equal to the number of training samples that are associated with it. "
      ]
    },
    {
      "cell_type": "code",
      "metadata": {
        "id": "LtlP7_uiciM-",
        "colab_type": "code",
        "colab": {
          "base_uri": "https://localhost:8080/",
          "height": 158
        },
        "outputId": "588b53fb-e25d-436c-d4e9-5cbce5e2628e"
      },
      "source": [
        "from sklearn.datasets import load_iris\n",
        "\n",
        "iris = load_iris()\n",
        "rnd_clf = RandomForestClassifier(n_estimators=500, n_jobs=-1)\n",
        "rnd_clf.fit(iris['data'], iris['target'])"
      ],
      "execution_count": 19,
      "outputs": [
        {
          "output_type": "execute_result",
          "data": {
            "text/plain": [
              "RandomForestClassifier(bootstrap=True, ccp_alpha=0.0, class_weight=None,\n",
              "                       criterion='gini', max_depth=None, max_features='auto',\n",
              "                       max_leaf_nodes=None, max_samples=None,\n",
              "                       min_impurity_decrease=0.0, min_impurity_split=None,\n",
              "                       min_samples_leaf=1, min_samples_split=2,\n",
              "                       min_weight_fraction_leaf=0.0, n_estimators=500,\n",
              "                       n_jobs=-1, oob_score=False, random_state=None, verbose=0,\n",
              "                       warm_start=False)"
            ]
          },
          "metadata": {
            "tags": []
          },
          "execution_count": 19
        }
      ]
    },
    {
      "cell_type": "code",
      "metadata": {
        "id": "x_Q85PW0hhS9",
        "colab_type": "code",
        "colab": {
          "base_uri": "https://localhost:8080/",
          "height": 87
        },
        "outputId": "1f4d4b1b-cda9-4946-ed6d-a54ce81239d3"
      },
      "source": [
        "for name, score in zip(iris[\"feature_names\"], rnd_clf.feature_importances_):\n",
        "  print(f'{name} {score}')"
      ],
      "execution_count": 20,
      "outputs": [
        {
          "output_type": "stream",
          "text": [
            "sepal length (cm) 0.10879719105604406\n",
            "sepal width (cm) 0.023328309269266743\n",
            "petal length (cm) 0.42478411736048655\n",
            "petal width (cm) 0.4430903823142026\n"
          ],
          "name": "stdout"
        }
      ]
    },
    {
      "cell_type": "code",
      "metadata": {
        "id": "ksYZWKyMhscg",
        "colab_type": "code",
        "colab": {}
      },
      "source": [
        "from sklearn.datasets import fetch_openml\n",
        "\n",
        "mnist = fetch_openml('mnist_784', version =1)\n",
        "mnist.target = mnist.target.astype(np.uint8)"
      ],
      "execution_count": 21,
      "outputs": []
    },
    {
      "cell_type": "code",
      "metadata": {
        "id": "_416-L4CiHnr",
        "colab_type": "code",
        "colab": {
          "base_uri": "https://localhost:8080/",
          "height": 158
        },
        "outputId": "5207bdc3-b026-4bf2-ce88-823fdf38af80"
      },
      "source": [
        "rnd_clf.fit(mnist['data'], mnist['target'])"
      ],
      "execution_count": 22,
      "outputs": [
        {
          "output_type": "execute_result",
          "data": {
            "text/plain": [
              "RandomForestClassifier(bootstrap=True, ccp_alpha=0.0, class_weight=None,\n",
              "                       criterion='gini', max_depth=None, max_features='auto',\n",
              "                       max_leaf_nodes=None, max_samples=None,\n",
              "                       min_impurity_decrease=0.0, min_impurity_split=None,\n",
              "                       min_samples_leaf=1, min_samples_split=2,\n",
              "                       min_weight_fraction_leaf=0.0, n_estimators=500,\n",
              "                       n_jobs=-1, oob_score=False, random_state=None, verbose=0,\n",
              "                       warm_start=False)"
            ]
          },
          "metadata": {
            "tags": []
          },
          "execution_count": 22
        }
      ]
    },
    {
      "cell_type": "code",
      "metadata": {
        "id": "raMdmY6ulLdv",
        "colab_type": "code",
        "colab": {}
      },
      "source": [
        "def plot_digit(data):\n",
        "  image = data.reshape(28,28)\n",
        "  plt.imshow(image, cmap=mpl.cm.hot, interpolation=\"nearest\")\n",
        "  plt.axis(\"off\")"
      ],
      "execution_count": 23,
      "outputs": []
    },
    {
      "cell_type": "code",
      "metadata": {
        "id": "mFaNBDxBmjaM",
        "colab_type": "code",
        "colab": {
          "base_uri": "https://localhost:8080/",
          "height": 261
        },
        "outputId": "e3535242-40a2-4ff9-e4d0-54f588d24b43"
      },
      "source": [
        "plot_digit(rnd_clf.feature_importances_)\n",
        "cbar = plt.colorbar(ticks=[rnd_clf.feature_importances_.min(), rnd_clf.feature_importances_.max()])\n",
        "cbar.ax.set_yticklabels(['Not important', 'Very important'])\n",
        "plt.show()"
      ],
      "execution_count": 24,
      "outputs": [
        {
          "output_type": "display_data",
          "data": {
            "image/png": "[encoded data removed]",
            "text/plain": [
              "<Figure size 432x288 with 2 Axes>"
            ]
          },
          "metadata": {
            "tags": [],
            "needs_background": "light"
          }
        }
      ]
    },
    {
      "cell_type": "markdown",
      "metadata": {
        "id": "99LYrqdEm9fR",
        "colab_type": "text"
      },
      "source": [
        "## Boosting \n",
        "\n",
        "*Boosting* refers to any Ensemble method that can combine several weak learners into a strong learner. The general idea of most boosting methods is to train predictors sequentially, each trying to correct its predecessor. There are many boosting methods available, but by far the most popular are **AdaBoost** and **Gradient Boosting**."
      ]
    },
    {
      "cell_type": "markdown",
      "metadata": {
        "id": "QOVuFVp1uWh2",
        "colab_type": "text"
      },
      "source": [
        "## AdaBoost \n",
        "\n",
        "One way for a new predictor to correct its predecessor is to pay a bit more attention to the training instances that the predecessor underfitted. This results in new predictons focusing more and more on the hard cases. \n",
        "\n",
        "For example, the algorithm first trains a base classifier and uses it to make predictions. The algorithm then increases the relative weight of misclssified traininng instances. Then it trains a second classifier, using the updated updated weights and so on. \n",
        "\n"
      ]
    },
    {
      "cell_type": "code",
      "metadata": {
        "id": "PSsR9V-fmz91",
        "colab_type": "code",
        "colab": {
          "base_uri": "https://localhost:8080/",
          "height": 321
        },
        "outputId": "ba57ed9e-caef-4091-e976-2e406f285e68"
      },
      "source": [
        "from sklearn.ensemble import AdaBoostClassifier\n",
        "\n",
        "adaboost = AdaBoostClassifier(\n",
        "    DecisionTreeClassifier(max_depth=1), n_estimators=100, algorithm = \"SAMME.R\", learning_rate=0.5, random_state=42\n",
        ")\n",
        "adaboost.fit(X_train, y_train)"
      ],
      "execution_count": 25,
      "outputs": [
        {
          "output_type": "execute_result",
          "data": {
            "text/plain": [
              "AdaBoostClassifier(algorithm='SAMME.R',\n",
              "                   base_estimator=DecisionTreeClassifier(ccp_alpha=0.0,\n",
              "                                                         class_weight=None,\n",
              "                                                         criterion='gini',\n",
              "                                                         max_depth=1,\n",
              "                                                         max_features=None,\n",
              "                                                         max_leaf_nodes=None,\n",
              "                                                         min_impurity_decrease=0.0,\n",
              "                                                         min_impurity_split=None,\n",
              "                                                         min_samples_leaf=1,\n",
              "                                                         min_samples_split=2,\n",
              "                                                         min_weight_fraction_leaf=0.0,\n",
              "                                                         presort='deprecated',\n",
              "                                                         random_state=None,\n",
              "                                                         splitter='best'),\n",
              "                   learning_rate=0.5, n_estimators=100, random_state=42)"
            ]
          },
          "metadata": {
            "tags": []
          },
          "execution_count": 25
        }
      ]
    },
    {
      "cell_type": "markdown",
      "metadata": {
        "id": "HHP8pCth-MqA",
        "colab_type": "text"
      },
      "source": [
        "Scikit-Learn uses a multiclass of AdaBoost called SAMME(**Stagewise Additive Modeling using a Multiclass Exponential loss function**).\n",
        "\n",
        "If the predictors can use the predict_proba or have class probabilities Scikit-Learn uses a variation called **SAMME.R** where the R stands for Real. \n",
        "\n"
      ]
    },
    {
      "cell_type": "code",
      "metadata": {
        "id": "0QhIjepPwA1A",
        "colab_type": "code",
        "colab": {
          "base_uri": "https://localhost:8080/",
          "height": 294
        },
        "outputId": "b7043b69-ee5f-4ca5-c044-68408bb5e4f1"
      },
      "source": [
        "plot_decision_boundary(adaboost, X, y)"
      ],
      "execution_count": 26,
      "outputs": [
        {
          "output_type": "display_data",
          "data": {
            "image/png": "[encoded data removed]",
            "text/plain": [
              "<Figure size 432x288 with 1 Axes>"
            ]
          },
          "metadata": {
            "tags": [],
            "needs_background": "light"
          }
        }
      ]
    },
    {
      "cell_type": "code",
      "metadata": {
        "id": "N4BtPdYrwHh3",
        "colab_type": "code",
        "colab": {
          "base_uri": "https://localhost:8080/",
          "height": 307
        },
        "outputId": "151605ed-c54f-4687-c010-7c902692f6ef"
      },
      "source": [
        "m = len(X_train)\n",
        "\n",
        "fix, axes = plt.subplots(ncols=2, figsize=(10,4), sharey=True)\n",
        "for subplot, learning_rate in ((0, 1), (1, 0.5)):\n",
        "    sample_weights = np.ones(m)\n",
        "    plt.sca(axes[subplot])\n",
        "    for i in range(5):\n",
        "        svm_clf = SVC(kernel=\"rbf\", C=0.05, gamma=\"scale\", random_state=42)\n",
        "        svm_clf.fit(X_train, y_train, sample_weight=sample_weights)\n",
        "        y_pred = svm_clf.predict(X_train)\n",
        "        sample_weights[y_pred != y_train] *= (1 + learning_rate)\n",
        "        plot_decision_boundary(svm_clf, X, y, alpha=0.2)\n",
        "        plt.title(\"learning_rate = {}\".format(learning_rate), fontsize=16)\n",
        "    if subplot == 0:\n",
        "        plt.text(-0.7, -0.65, \"1\", fontsize=14)\n",
        "        plt.text(-0.6, -0.10, \"2\", fontsize=14)\n",
        "        plt.text(-0.5,  0.10, \"3\", fontsize=14)\n",
        "        plt.text(-0.4,  0.55, \"4\", fontsize=14)\n",
        "        plt.text(-0.3,  0.90, \"5\", fontsize=14)\n",
        "    else:\n",
        "        plt.ylabel(\"\")\n",
        "\n",
        "plt.show()"
      ],
      "execution_count": 27,
      "outputs": [
        {
          "output_type": "display_data",
          "data": {
            "image/png": "[encoded data removed]",
            "text/plain": [
              "<Figure size 720x288 with 2 Axes>"
            ]
          },
          "metadata": {
            "tags": [],
            "needs_background": "light"
          }
        }
      ]
    },
    {
      "cell_type": "markdown",
      "metadata": {
        "id": "6fNvl2ShwOvx",
        "colab_type": "text"
      },
      "source": [
        "Each plot shows the five decision boundaries as they are trained on the updated weights from the previous training iteration. \n",
        "\n",
        "The learning rate determines how much the weights are boosted at each iteration i.e., 0\n",
        "learning rate of 0.5 the weights are boosted by half at each iteration. \n",
        "\n",
        "**Downside:**\n",
        "\n",
        "The problem with this method is that it is quite slow as weights from each iteration are used in the next iteration which causes it to now scale well to larger datasets. \n",
        "\n",
        "**Dealing with overfitting:**\n",
        "\n",
        "Reduce the number of estimators or more strongly regularize the base estimators. "
      ]
    },
    {
      "cell_type": "markdown",
      "metadata": {
        "id": "GeRoCYBq_6Ab",
        "colab_type": "text"
      },
      "source": [
        "## Gradient Boosting\n",
        "\n",
        "Gradient Boosting works similarly to AdaBoost except instead of using the weights from the previous iteration it uses the residual error from the previous iteration to fit the predictor. \n",
        "\n",
        "#### Gradient Boosted Regression Trees\n",
        "\n",
        "Using Gradient Boosting on a Decision Trees."
      ]
    },
    {
      "cell_type": "code",
      "metadata": {
        "id": "5d3IX45VCpj4",
        "colab_type": "code",
        "colab": {}
      },
      "source": [
        "np.random.seed(42)\n",
        "X = np.random.rand(100, 1) - 0.5\n",
        "y = 3*X[:, 0]**2 + 0.05 * np.random.randn(100)"
      ],
      "execution_count": 28,
      "outputs": []
    },
    {
      "cell_type": "code",
      "metadata": {
        "id": "7kCoHhrIwMu_",
        "colab_type": "code",
        "colab": {
          "base_uri": "https://localhost:8080/",
          "height": 123
        },
        "outputId": "bf503d66-c0ec-4031-ece2-51b888576a32"
      },
      "source": [
        "from sklearn.tree import DecisionTreeRegressor\n",
        "tree_reg1 = DecisionTreeRegressor(max_depth=2)\n",
        "\n",
        "tree_reg1.fit(X,y)"
      ],
      "execution_count": 29,
      "outputs": [
        {
          "output_type": "execute_result",
          "data": {
            "text/plain": [
              "DecisionTreeRegressor(ccp_alpha=0.0, criterion='mse', max_depth=2,\n",
              "                      max_features=None, max_leaf_nodes=None,\n",
              "                      min_impurity_decrease=0.0, min_impurity_split=None,\n",
              "                      min_samples_leaf=1, min_samples_split=2,\n",
              "                      min_weight_fraction_leaf=0.0, presort='deprecated',\n",
              "                      random_state=None, splitter='best')"
            ]
          },
          "metadata": {
            "tags": []
          },
          "execution_count": 29
        }
      ]
    },
    {
      "cell_type": "code",
      "metadata": {
        "id": "m72lSV1_Al7C",
        "colab_type": "code",
        "colab": {
          "base_uri": "https://localhost:8080/",
          "height": 123
        },
        "outputId": "ec2bfb76-007d-4d41-9d89-621dfec69f57"
      },
      "source": [
        "y2 = y - tree_reg1.predict(X)\n",
        "tree_reg2 = DecisionTreeRegressor(max_depth=2)\n",
        "tree_reg2.fit(X, y2)"
      ],
      "execution_count": 30,
      "outputs": [
        {
          "output_type": "execute_result",
          "data": {
            "text/plain": [
              "DecisionTreeRegressor(ccp_alpha=0.0, criterion='mse', max_depth=2,\n",
              "                      max_features=None, max_leaf_nodes=None,\n",
              "                      min_impurity_decrease=0.0, min_impurity_split=None,\n",
              "                      min_samples_leaf=1, min_samples_split=2,\n",
              "                      min_weight_fraction_leaf=0.0, presort='deprecated',\n",
              "                      random_state=None, splitter='best')"
            ]
          },
          "metadata": {
            "tags": []
          },
          "execution_count": 30
        }
      ]
    },
    {
      "cell_type": "code",
      "metadata": {
        "id": "YFlim6XHA35w",
        "colab_type": "code",
        "colab": {
          "base_uri": "https://localhost:8080/",
          "height": 123
        },
        "outputId": "5fdcb3c3-fc70-441e-f1e6-5397c1c65f38"
      },
      "source": [
        "y3 = y2 - tree_reg2.predict(X)\n",
        "tree_reg3 = DecisionTreeRegressor(max_depth=2)\n",
        "tree_reg3.fit(X, y3)"
      ],
      "execution_count": 31,
      "outputs": [
        {
          "output_type": "execute_result",
          "data": {
            "text/plain": [
              "DecisionTreeRegressor(ccp_alpha=0.0, criterion='mse', max_depth=2,\n",
              "                      max_features=None, max_leaf_nodes=None,\n",
              "                      min_impurity_decrease=0.0, min_impurity_split=None,\n",
              "                      min_samples_leaf=1, min_samples_split=2,\n",
              "                      min_weight_fraction_leaf=0.0, presort='deprecated',\n",
              "                      random_state=None, splitter='best')"
            ]
          },
          "metadata": {
            "tags": []
          },
          "execution_count": 31
        }
      ]
    },
    {
      "cell_type": "code",
      "metadata": {
        "id": "kYHoNEhIBLZn",
        "colab_type": "code",
        "colab": {}
      },
      "source": [
        "X_new = np.array([[0.8]])"
      ],
      "execution_count": 32,
      "outputs": []
    },
    {
      "cell_type": "code",
      "metadata": {
        "id": "_aYHt-HNA_7Z",
        "colab_type": "code",
        "colab": {}
      },
      "source": [
        "y_pred = sum(tree.predict(X_new) for tree in (tree_reg1, tree_reg2, tree_reg3))"
      ],
      "execution_count": 33,
      "outputs": []
    },
    {
      "cell_type": "code",
      "metadata": {
        "id": "0vD7vzOGB191",
        "colab_type": "code",
        "colab": {
          "base_uri": "https://localhost:8080/",
          "height": 34
        },
        "outputId": "059d6860-998c-4cd5-b9e5-7f68dae14a26"
      },
      "source": [
        "y_pred"
      ],
      "execution_count": 34,
      "outputs": [
        {
          "output_type": "execute_result",
          "data": {
            "text/plain": [
              "array([0.75026781])"
            ]
          },
          "metadata": {
            "tags": []
          },
          "execution_count": 34
        }
      ]
    },
    {
      "cell_type": "code",
      "metadata": {
        "id": "zcPaY4PpCuSb",
        "colab_type": "code",
        "colab": {}
      },
      "source": [
        "def plot_predictions(regressors, X, y, axes, label=None, style=\"r-\", data_style=\"b.\", data_label=None):\n",
        "    x1 = np.linspace(axes[0], axes[1], 500)\n",
        "    y_pred = sum(regressor.predict(x1.reshape(-1, 1)) for regressor in regressors)\n",
        "    plt.plot(X[:, 0], y, data_style, label=data_label)\n",
        "    plt.plot(x1, y_pred, style, linewidth=2, label=label)\n",
        "    if label or data_label:\n",
        "        plt.legend(loc=\"upper center\", fontsize=16)\n",
        "    plt.axis(axes)"
      ],
      "execution_count": 35,
      "outputs": []
    },
    {
      "cell_type": "code",
      "metadata": {
        "id": "6h5n1hFbCzyO",
        "colab_type": "code",
        "colab": {
          "base_uri": "https://localhost:8080/",
          "height": 668
        },
        "outputId": "20099eb7-029c-4448-ac59-ac7a58f2878d"
      },
      "source": [
        "plt.figure(figsize=(11,11))\n",
        "\n",
        "plt.subplot(321)\n",
        "plot_predictions([tree_reg1], X, y, axes=[-0.5, 0.5, -0.1, 0.8], label=\"$h_1(x_1)$\", style=\"g-\", data_label=\"Training set\")\n",
        "plt.ylabel(\"$y$\", fontsize=16, rotation=0)\n",
        "plt.title(\"Residuals and tree predictions\", fontsize=16)\n",
        "\n",
        "plt.subplot(322)\n",
        "plot_predictions([tree_reg1], X, y, axes=[-0.5, 0.5, -0.1, 0.8], label=\"$h(x_1) = h_1(x_1)$\", data_label=\"Training set\")\n",
        "plt.ylabel(\"$y$\", fontsize=16, rotation=0)\n",
        "plt.title(\"Ensemble predictions\", fontsize=16)\n",
        "\n",
        "plt.subplot(323)\n",
        "plot_predictions([tree_reg2], X, y2, axes=[-0.5, 0.5, -0.5, 0.5], label=\"$h_2(x_1)$\", style=\"g-\", data_style=\"k+\", data_label=\"Residuals\")\n",
        "plt.ylabel(\"$y - h_1(x_1)$\", fontsize=16)\n",
        "\n",
        "plt.subplot(324)\n",
        "plot_predictions([tree_reg1, tree_reg2], X, y, axes=[-0.5, 0.5, -0.1, 0.8], label=\"$h(x_1) = h_1(x_1) + h_2(x_1)$\")\n",
        "plt.ylabel(\"$y$\", fontsize=16, rotation=0)\n",
        "\n",
        "plt.subplot(325)\n",
        "plot_predictions([tree_reg3], X, y3, axes=[-0.5, 0.5, -0.5, 0.5], label=\"$h_3(x_1)$\", style=\"g-\", data_style=\"k+\")\n",
        "plt.ylabel(\"$y - h_1(x_1) - h_2(x_1)$\", fontsize=16)\n",
        "plt.xlabel(\"$x_1$\", fontsize=16)\n",
        "\n",
        "plt.subplot(326)\n",
        "plot_predictions([tree_reg1, tree_reg2, tree_reg3], X, y, axes=[-0.5, 0.5, -0.1, 0.8], label=\"$h(x_1) = h_1(x_1) + h_2(x_1) + h_3(x_1)$\")\n",
        "plt.xlabel(\"$x_1$\", fontsize=16)\n",
        "plt.ylabel(\"$y$\", fontsize=16, rotation=0)\n",
        "\n",
        "plt.show()"
      ],
      "execution_count": 36,
      "outputs": [
        {
          "output_type": "display_data",
          "data": {
            "image/png": "[encoded data removed]",
            "text/plain": [
              "<Figure size 792x792 with 6 Axes>"
            ]
          },
          "metadata": {
            "tags": [],
            "needs_background": "light"
          }
        }
      ]
    },
    {
      "cell_type": "markdown",
      "metadata": {
        "id": "2ekE993aC6UQ",
        "colab_type": "text"
      },
      "source": [
        "Plots on the left represent these three trees and on the right you have the ensemble predictions. It has only one tree thats why its exactly the same as the first plot of a single tree. \n",
        "\n",
        "You can see that the ensemble's predictions gradually get better as trees are adeed to the ensemble. "
      ]
    },
    {
      "cell_type": "code",
      "metadata": {
        "id": "6YyGYeTcC3Gg",
        "colab_type": "code",
        "colab": {
          "base_uri": "https://localhost:8080/",
          "height": 176
        },
        "outputId": "4205b285-8cd4-44c9-b825-082912467f50"
      },
      "source": [
        "# Simpler way using GradientBoostingRegressor \n",
        "from sklearn.ensemble import GradientBoostingRegressor\n",
        "gbrt = GradientBoostingRegressor(max_depth= 2, n_estimators=3, learning_rate=1.0)\n",
        "gbrt.fit(X,y)"
      ],
      "execution_count": 37,
      "outputs": [
        {
          "output_type": "execute_result",
          "data": {
            "text/plain": [
              "GradientBoostingRegressor(alpha=0.9, ccp_alpha=0.0, criterion='friedman_mse',\n",
              "                          init=None, learning_rate=1.0, loss='ls', max_depth=2,\n",
              "                          max_features=None, max_leaf_nodes=None,\n",
              "                          min_impurity_decrease=0.0, min_impurity_split=None,\n",
              "                          min_samples_leaf=1, min_samples_split=2,\n",
              "                          min_weight_fraction_leaf=0.0, n_estimators=3,\n",
              "                          n_iter_no_change=None, presort='deprecated',\n",
              "                          random_state=None, subsample=1.0, tol=0.0001,\n",
              "                          validation_fraction=0.1, verbose=0, warm_start=False)"
            ]
          },
          "metadata": {
            "tags": []
          },
          "execution_count": 37
        }
      ]
    },
    {
      "cell_type": "markdown",
      "metadata": {
        "id": "KD4VGR1aEA5T",
        "colab_type": "text"
      },
      "source": [
        "The **learning rate hyperparameter** scales the contribution of each tree. If you set it to a low value, such as 0.1 you will need more trees in the ensemble to fit the training set, but the predictions will usually generalize better. This regularization technique is known as *shrinkage*."
      ]
    },
    {
      "cell_type": "code",
      "metadata": {
        "id": "1rFH12P8D1YZ",
        "colab_type": "code",
        "colab": {
          "base_uri": "https://localhost:8080/",
          "height": 176
        },
        "outputId": "ef6224ee-a4d8-44df-f612-40faa0e35ed8"
      },
      "source": [
        "gbrt_slow = GradientBoostingRegressor(max_depth=2, n_estimators=200, learning_rate=0.1, random_state=42)\n",
        "gbrt_slow.fit(X, y)"
      ],
      "execution_count": 38,
      "outputs": [
        {
          "output_type": "execute_result",
          "data": {
            "text/plain": [
              "GradientBoostingRegressor(alpha=0.9, ccp_alpha=0.0, criterion='friedman_mse',\n",
              "                          init=None, learning_rate=0.1, loss='ls', max_depth=2,\n",
              "                          max_features=None, max_leaf_nodes=None,\n",
              "                          min_impurity_decrease=0.0, min_impurity_split=None,\n",
              "                          min_samples_leaf=1, min_samples_split=2,\n",
              "                          min_weight_fraction_leaf=0.0, n_estimators=200,\n",
              "                          n_iter_no_change=None, presort='deprecated',\n",
              "                          random_state=42, subsample=1.0, tol=0.0001,\n",
              "                          validation_fraction=0.1, verbose=0, warm_start=False)"
            ]
          },
          "metadata": {
            "tags": []
          },
          "execution_count": 38
        }
      ]
    },
    {
      "cell_type": "code",
      "metadata": {
        "id": "Xhe3tLkuYAEx",
        "colab_type": "code",
        "colab": {
          "base_uri": "https://localhost:8080/",
          "height": 304
        },
        "outputId": "a27e3079-751a-4eab-9b94-9f474b62d962"
      },
      "source": [
        "fix, axes = plt.subplots(ncols=2, figsize=(10,4), sharey=True)\n",
        "\n",
        "plt.sca(axes[0])\n",
        "plot_predictions([gbrt], X, y, axes=[-0.5, 0.5, -0.1, 0.8], label=\"Ensemble predictions\")\n",
        "plt.title(\"learning_rate={}, n_estimators={}\".format(gbrt.learning_rate, gbrt.n_estimators), fontsize=14)\n",
        "plt.xlabel(\"$x_1$\", fontsize=16)\n",
        "plt.ylabel(\"$y$\", fontsize=16, rotation=0)\n",
        "\n",
        "plt.sca(axes[1])\n",
        "plot_predictions([gbrt_slow], X, y, axes=[-0.5, 0.5, -0.1, 0.8])\n",
        "plt.title(\"learning_rate={}, n_estimators={}\".format(gbrt_slow.learning_rate, gbrt_slow.n_estimators), fontsize=14)\n",
        "plt.xlabel(\"$x_1$\", fontsize=16)\n",
        "\n",
        "plt.show()"
      ],
      "execution_count": 39,
      "outputs": [
        {
          "output_type": "display_data",
          "data": {
            "image/png": "[encoded data removed]",
            "text/plain": [
              "<Figure size 720x288 with 2 Axes>"
            ]
          },
          "metadata": {
            "tags": [],
            "needs_background": "light"
          }
        }
      ]
    },
    {
      "cell_type": "markdown",
      "metadata": {
        "id": "JTyWSnfQYEjX",
        "colab_type": "text"
      },
      "source": [
        "With not enough trees the model will underfit the training instances while if there are too many trees then it will overfit the training instances. \n",
        "\n",
        "#### Optimal way to find the number of trees:\n",
        "\n",
        "Use early stopping \n"
      ]
    },
    {
      "cell_type": "code",
      "metadata": {
        "id": "XNP0blIGYDs7",
        "colab_type": "code",
        "colab": {}
      },
      "source": [
        "from sklearn.metrics import mean_squared_error\n",
        "from sklearn.model_selection import train_test_split\n",
        "\n",
        "X_train,X_val, y_train,y_val = train_test_split(X,y)"
      ],
      "execution_count": 40,
      "outputs": []
    },
    {
      "cell_type": "code",
      "metadata": {
        "id": "5xQQI1AKYseg",
        "colab_type": "code",
        "colab": {
          "base_uri": "https://localhost:8080/",
          "height": 176
        },
        "outputId": "3693f71d-8050-49ed-d472-8caee56e0634"
      },
      "source": [
        "gbrt = GradientBoostingRegressor(max_depth=2, n_estimators=120, random_state=42)\n",
        "gbrt.fit(X_train, y_train)\n",
        "\n",
        "errors = [mean_squared_error(y_val, y_pred)\n",
        "          for y_pred in gbrt.staged_predict(X_val)]\n",
        "bst_n_estimators = np.argmin(errors) + 1\n",
        "\n",
        "gbrt_best = GradientBoostingRegressor(max_depth=2, n_estimators=bst_n_estimators, random_state=42)\n",
        "gbrt_best.fit(X_train, y_train)"
      ],
      "execution_count": 41,
      "outputs": [
        {
          "output_type": "execute_result",
          "data": {
            "text/plain": [
              "GradientBoostingRegressor(alpha=0.9, ccp_alpha=0.0, criterion='friedman_mse',\n",
              "                          init=None, learning_rate=0.1, loss='ls', max_depth=2,\n",
              "                          max_features=None, max_leaf_nodes=None,\n",
              "                          min_impurity_decrease=0.0, min_impurity_split=None,\n",
              "                          min_samples_leaf=1, min_samples_split=2,\n",
              "                          min_weight_fraction_leaf=0.0, n_estimators=85,\n",
              "                          n_iter_no_change=None, presort='deprecated',\n",
              "                          random_state=42, subsample=1.0, tol=0.0001,\n",
              "                          validation_fraction=0.1, verbose=0, warm_start=False)"
            ]
          },
          "metadata": {
            "tags": []
          },
          "execution_count": 41
        }
      ]
    },
    {
      "cell_type": "code",
      "metadata": {
        "id": "r-ddo4arY8cF",
        "colab_type": "code",
        "colab": {}
      },
      "source": [
        "min_error = np.min(errors)"
      ],
      "execution_count": 42,
      "outputs": []
    },
    {
      "cell_type": "code",
      "metadata": {
        "id": "mpK2g-NHZUq1",
        "colab_type": "code",
        "colab": {
          "base_uri": "https://localhost:8080/",
          "height": 304
        },
        "outputId": "582f80e9-8136-456d-c27a-55916e83f726"
      },
      "source": [
        "plt.figure(figsize=(10, 4))\n",
        "\n",
        "plt.subplot(121)\n",
        "plt.plot(errors, \"b.-\")\n",
        "plt.plot([bst_n_estimators, bst_n_estimators], [0, min_error], \"k--\")\n",
        "plt.plot([0, 120], [min_error, min_error], \"k--\")\n",
        "plt.plot(bst_n_estimators, min_error, \"ko\")\n",
        "plt.text(bst_n_estimators, min_error*1.2, \"Minimum\", ha=\"center\", fontsize=14)\n",
        "plt.axis([0, 120, 0, 0.01])\n",
        "plt.xlabel(\"Number of trees\")\n",
        "plt.ylabel(\"Error\", fontsize=16)\n",
        "plt.title(\"Validation error\", fontsize=14)\n",
        "\n",
        "plt.subplot(122)\n",
        "plot_predictions([gbrt_best], X, y, axes=[-0.5, 0.5, -0.1, 0.8])\n",
        "plt.title(\"Best model (%d trees)\" % bst_n_estimators, fontsize=14)\n",
        "plt.ylabel(\"$y$\", fontsize=16, rotation=0)\n",
        "plt.xlabel(\"$x_1$\", fontsize=16)\n",
        "\n",
        "plt.show()"
      ],
      "execution_count": 43,
      "outputs": [
        {
          "output_type": "display_data",
          "data": {
            "image/png": "[encoded data removed]",
            "text/plain": [
              "<Figure size 720x288 with 2 Axes>"
            ]
          },
          "metadata": {
            "tags": [],
            "needs_background": "light"
          }
        }
      ]
    },
    {
      "cell_type": "code",
      "metadata": {
        "id": "rYIXuLRDZX1H",
        "colab_type": "code",
        "colab": {}
      },
      "source": [
        "# alternative to going through all the trees and finding the optimal one \n",
        "# instead actually stop training early\n",
        "\n",
        "gbrt = GradientBoostingRegressor(max_depth=2, warm_start=True, random_state=42)\n",
        "\n",
        "min_val_error = float(\"inf\")\n",
        "error_going_up = 0\n",
        "for n_estimators in range(1, 120):\n",
        "    gbrt.n_estimators = n_estimators\n",
        "    gbrt.fit(X_train, y_train)\n",
        "    y_pred = gbrt.predict(X_val)\n",
        "    val_error = mean_squared_error(y_val, y_pred)\n",
        "    if val_error < min_val_error:\n",
        "        min_val_error = val_error\n",
        "        error_going_up = 0\n",
        "    else:\n",
        "        error_going_up += 1\n",
        "        if error_going_up == 5:\n",
        "            break  # early stopping"
      ],
      "execution_count": 44,
      "outputs": []
    },
    {
      "cell_type": "code",
      "metadata": {
        "id": "aUsvsHVrbqLS",
        "colab_type": "code",
        "colab": {
          "base_uri": "https://localhost:8080/",
          "height": 34
        },
        "outputId": "67e11466-8cfc-4411-9f57-496c1221c7f1"
      },
      "source": [
        "print(gbrt.n_estimators)"
      ],
      "execution_count": 45,
      "outputs": [
        {
          "output_type": "stream",
          "text": [
            "69\n"
          ],
          "name": "stdout"
        }
      ]
    },
    {
      "cell_type": "code",
      "metadata": {
        "id": "jUUSHiGZbsk9",
        "colab_type": "code",
        "colab": {
          "base_uri": "https://localhost:8080/",
          "height": 34
        },
        "outputId": "ff608caf-7a65-44ea-f174-2cf4d55224eb"
      },
      "source": [
        "print(\"Minimum validation MSE:\", min_val_error)"
      ],
      "execution_count": 46,
      "outputs": [
        {
          "output_type": "stream",
          "text": [
            "Minimum validation MSE: 0.002750279033345716\n"
          ],
          "name": "stdout"
        }
      ]
    },
    {
      "cell_type": "markdown",
      "metadata": {
        "id": "qgeEZMATcKAL",
        "colab_type": "text"
      },
      "source": [
        "## XGBoost library \n",
        "\n",
        "An optimized implementation of Gradient Boosting "
      ]
    },
    {
      "cell_type": "code",
      "metadata": {
        "id": "1VH55iOdbufD",
        "colab_type": "code",
        "colab": {
          "base_uri": "https://localhost:8080/",
          "height": 54
        },
        "outputId": "691cb69c-337f-477f-bc99-6fde0922c68d"
      },
      "source": [
        "import xgboost \n",
        "\n",
        "xgb_reg = xgboost.XGBRegressor()\n",
        "xgb_reg.fit(X_train, y_train)\n",
        "y_pred = xgb_reg.predict(X_val)"
      ],
      "execution_count": 47,
      "outputs": [
        {
          "output_type": "stream",
          "text": [
            "[14:32:18] WARNING: /workspace/src/objective/regression_obj.cu:152: reg:linear is now deprecated in favor of reg:squarederror.\n"
          ],
          "name": "stdout"
        }
      ]
    },
    {
      "cell_type": "code",
      "metadata": {
        "id": "z_7Ai4FhcfZy",
        "colab_type": "code",
        "colab": {
          "base_uri": "https://localhost:8080/",
          "height": 961
        },
        "outputId": "35800aae-a99a-4366-8a09-55d900d46eff"
      },
      "source": [
        "# XGBoost offers automatic early stopping \n",
        "\n",
        "xgb_reg.fit(X_train,y_train, eval_set=[(X_val, y_val)], early_stopping_rounds=2)\n",
        "y_pred = xgb_reg.predict(X_val)"
      ],
      "execution_count": 48,
      "outputs": [
        {
          "output_type": "stream",
          "text": [
            "[14:32:19] WARNING: /workspace/src/objective/regression_obj.cu:152: reg:linear is now deprecated in favor of reg:squarederror.\n",
            "[0]\tvalidation_0-rmse:0.275313\n",
            "Will train until validation_0-rmse hasn't improved in 2 rounds.\n",
            "[1]\tvalidation_0-rmse:0.247499\n",
            "[2]\tvalidation_0-rmse:0.222947\n",
            "[3]\tvalidation_0-rmse:0.201049\n",
            "[4]\tvalidation_0-rmse:0.181641\n",
            "[5]\tvalidation_0-rmse:0.166735\n",
            "[6]\tvalidation_0-rmse:0.153621\n",
            "[7]\tvalidation_0-rmse:0.141686\n",
            "[8]\tvalidation_0-rmse:0.131314\n",
            "[9]\tvalidation_0-rmse:0.122047\n",
            "[10]\tvalidation_0-rmse:0.112234\n",
            "[11]\tvalidation_0-rmse:0.10366\n",
            "[12]\tvalidation_0-rmse:0.097232\n",
            "[13]\tvalidation_0-rmse:0.092018\n",
            "[14]\tvalidation_0-rmse:0.087123\n",
            "[15]\tvalidation_0-rmse:0.083105\n",
            "[16]\tvalidation_0-rmse:0.079681\n",
            "[17]\tvalidation_0-rmse:0.076621\n",
            "[18]\tvalidation_0-rmse:0.074141\n",
            "[19]\tvalidation_0-rmse:0.071896\n",
            "[20]\tvalidation_0-rmse:0.070115\n",
            "[21]\tvalidation_0-rmse:0.068281\n",
            "[22]\tvalidation_0-rmse:0.066894\n",
            "[23]\tvalidation_0-rmse:0.065783\n",
            "[24]\tvalidation_0-rmse:0.064704\n",
            "[25]\tvalidation_0-rmse:0.063744\n",
            "[26]\tvalidation_0-rmse:0.062625\n",
            "[27]\tvalidation_0-rmse:0.061978\n",
            "[28]\tvalidation_0-rmse:0.060858\n",
            "[29]\tvalidation_0-rmse:0.059868\n",
            "[30]\tvalidation_0-rmse:0.059202\n",
            "[31]\tvalidation_0-rmse:0.058817\n",
            "[32]\tvalidation_0-rmse:0.058233\n",
            "[33]\tvalidation_0-rmse:0.057706\n",
            "[34]\tvalidation_0-rmse:0.057434\n",
            "[35]\tvalidation_0-rmse:0.056745\n",
            "[36]\tvalidation_0-rmse:0.056413\n",
            "[37]\tvalidation_0-rmse:0.055872\n",
            "[38]\tvalidation_0-rmse:0.055391\n",
            "[39]\tvalidation_0-rmse:0.05512\n",
            "[40]\tvalidation_0-rmse:0.054845\n",
            "[41]\tvalidation_0-rmse:0.054576\n",
            "[42]\tvalidation_0-rmse:0.054318\n",
            "[43]\tvalidation_0-rmse:0.054347\n",
            "[44]\tvalidation_0-rmse:0.054104\n",
            "[45]\tvalidation_0-rmse:0.054106\n",
            "[46]\tvalidation_0-rmse:0.054133\n",
            "Stopping. Best iteration:\n",
            "[44]\tvalidation_0-rmse:0.054104\n",
            "\n"
          ],
          "name": "stdout"
        }
      ]
    },
    {
      "cell_type": "markdown",
      "metadata": {
        "id": "T-5BDd5qdd4L",
        "colab_type": "text"
      },
      "source": [
        "## Stacking \n",
        "\n",
        "Stacked generalization \n",
        "\n",
        "Instead of using trivial functions such as hard voting to aggregate the predictions of all predictors in an ensemble, why don't we train a model to perform this aggregation?\n",
        "\n",
        "To train the blender or the meta learner, a common approach is to use a hold-out set.\n",
        "\n",
        "1. The training set is split into two subsets.\n",
        "2. The first subset is used to train the predictors in the first layer.\n",
        "3. The first layers predictions are used to make predictions on the second held out set. This ensures that the predictions are \"clean\", since the predictors never saw these instances. We can create a new training set using these preficted values as input features, and keeping the target values. The blender of the second subset is used to train the model so it learns to predict the tsrget value, given the first layer's predictions. \n",
        "\n",
        "It is possible to train several different blenders this way i.e., one using Linear Regression, one using Random Forest Regression etc.to get a whole layer of blenders. \n",
        "\n",
        "The trick is to split the training set into 3 subsets. \n",
        "\n",
        "The first one is used to train the first layer, the second one is used to create the training set used to train the second layer, and the third one is sued to crearte the training set to train the third layer. Once this is done you can make predictions for a new instance by going through each layer sequentially. "
      ]
    },
    {
      "cell_type": "markdown",
      "metadata": {
        "id": "HW7UXx6RkXKR",
        "colab_type": "text"
      },
      "source": [
        "## Exercises\n",
        "1. If you have trained five different models on the exact same training data, and they all achieve 95% precision, is there any chance that you can combine these models to get better results? If so, how? If not, why?\n",
        "\n",
        "  **You can try combining them into a voting ensemble, which will often give you even better results. It works better it the models are very different and it will be even better if they are trained on different instances using bagging or pasting.**\n",
        "\n",
        "2. What is the difference between hard and soft voting classifiers?\n",
        "\n",
        "  **A hard voting classifier just counts the votes of each classifier in the ensemble and picks the class with the greatest votes. A soft voting classifier computes the average estimated class probability for each class then picks the one with the highest probabiity. This gives high-confidence votes more weight and often performs better, but it works only if every classifier outputs the class probabilities or the predic_probab, SVM needs the probability=True for this to work.**\n",
        "\n",
        "3. Is it possible to speed up training of a bagging ensemble by distributing it across multiple servers? What about pasting ensembles, boosting ensembles, Random Forests, or stacking ensembles?\n",
        "\n",
        "  **Bagging & Pasting & Random Forest: Possible to speed up training since each predictor in the ensemble is independent from each other. Boosting: Each predictor is built based on the previous predictors results so training is necessarily sequential, and no gain will be seen. Stacking: All the predictors trained are independent from each other so they can be trained in parallel on multiple servers. However, the predictors in one layer can only be trained after the predictors in the previous layer have all been trained.**\n",
        "\n",
        "4. What is the benefit of out-of-bag evaluation?\n",
        "\n",
        "  **Each predictor in a bagging ensemble is evaluated using instances that it was not trained on. This makes it possible to have a fairly unbiased evaluatoon of the ensemble without the need for an additional validation set. Thus, you have more instances available for training and your ensemble will perform better.**\n",
        "\n",
        "5. What makes Extra-Trees more random than regular Random Forests? How can this extra randomness help? Are Extra Trees slower or faster than regular Random Forests?\n",
        "\n",
        "  **Extra Tree are more random as they use random thresholds for each feature when growing a tree. This extra randomness acts as a regularizer: if a Random Forest overfits the training instances then Extra Trees might perform even better. Also since they do not search for the best possible threshold they are much faster since this process is usually what takes up the most amount of time. However, they are neither slower or faster when it comes to making predictions.**\n",
        "\n",
        "6. If your AdaBoost ensemble underfits the training data, which hyperparameters should you tweak and how?\n",
        "\n",
        "  **You can try increasing the number of estimators or reducing the regularization hyperparameters of the base estimators. You can also try increasing the learning rate.**\n",
        "\n",
        "7. If your Gradient Boosting ensemble overfits the training set, should you increase or decrease the learning rate?\n",
        "\n",
        "  **Decreasing the learning rate or you could use early stopping to findd the right number of predictors.**\n",
        "\n",
        "8. Load the MNIST data (introduced in Chapter 3), and split it into a training set, a validation set, and a test set (e.g., use 50,000 instances for training, 10,000 for val‐ idation, and 10,000 for testing). Then train various classifiers, such as a Random Forest classifier, an Extra-Trees classifier, and an SVM classifier. Next, try to com‐ bine them into an ensemble that outperforms each individual classifier on the validation set, using soft or hard voting. Once you have found one, try it on the test set. How much better does it perform compared to the individual classifiers?\n",
        "\n",
        "9. Run the individual classifiers from the previous exercise to make predictions on the validation set, and create a new training set with the resulting predictions: each training instance is a vector containing the set of predictions from all your classifiers for an image, and the target is the image’s class. Train a classifier on this new training set. Congratulations, you have just trained a blender, and together with the classifiers it forms a stacking ensemble! Now evaluate the ensemble on the test set. For each image in the test set, make predictions with all your classifiers, then feed the predictions to the blender to get the ensemble’s pre‐ dictions. How does it compare to the voting classifier you trained earlier?"
      ]
    },
    {
      "cell_type": "markdown",
      "metadata": {
        "id": "U1t3o_Q1aHtL",
        "colab_type": "text"
      },
      "source": [
        "## Exercise 8"
      ]
    },
    {
      "cell_type": "code",
      "metadata": {
        "id": "t2cnIfWAcvWt",
        "colab_type": "code",
        "colab": {}
      },
      "source": [
        "mnist = fetch_openml('mnist_784', version =1)\n",
        "mnist.target = mnist.target.astype(np.uint8)"
      ],
      "execution_count": 50,
      "outputs": []
    },
    {
      "cell_type": "code",
      "metadata": {
        "id": "sDGLNgXOSnhz",
        "colab_type": "code",
        "colab": {}
      },
      "source": [
        "X_train, X_test, y_train, y_test = train_test_split(mnist.data, mnist.target, test_size=10000, random_state=42)\n",
        "X_train, X_val, y_train, y_val = train_test_split(mnist.data, mnist.target, test_size=10000, random_state=42)"
      ],
      "execution_count": 51,
      "outputs": []
    },
    {
      "cell_type": "code",
      "metadata": {
        "id": "3B9GZ_tRS_b9",
        "colab_type": "code",
        "colab": {}
      },
      "source": [
        "# Random Forest Classifier \n",
        "from sklearn.ensemble import ExtraTreesClassifier\n",
        "from sklearn.svm import LinearSVC\n",
        "\n",
        "forest = RandomForestClassifier(n_estimators=100, random_state=42)\n",
        "ex_trees = ExtraTreesClassifier(n_estimators=100, random_state=42)\n",
        "svc = LinearSVC(random_state=42)"
      ],
      "execution_count": 53,
      "outputs": []
    },
    {
      "cell_type": "code",
      "metadata": {
        "id": "pHbBUPzDUDkK",
        "colab_type": "code",
        "colab": {
          "base_uri": "https://localhost:8080/",
          "height": 178
        },
        "outputId": "3d29a42c-5429-4153-aebe-c08e019e3afa"
      },
      "source": [
        "models = [forest, ex_trees, svc]\n",
        "\n",
        "for model in models:\n",
        "  model.fit(X_train, y_train)\n",
        "  y_pred = model.predict(X_val)\n",
        "  print(model.__class__.__name__)\n",
        "  print(f'Accuracy: {accuracy_score(y_pred, y_val)}')"
      ],
      "execution_count": 56,
      "outputs": [
        {
          "output_type": "stream",
          "text": [
            "RandomForestClassifier\n",
            "Accuracy: 0.9674\n",
            "ExtraTreesClassifier\n",
            "Accuracy: 0.9682\n",
            "LinearSVC\n",
            "Accuracy: 0.8678\n"
          ],
          "name": "stdout"
        },
        {
          "output_type": "stream",
          "text": [
            "/usr/local/lib/python3.6/dist-packages/sklearn/svm/_base.py:947: ConvergenceWarning: Liblinear failed to converge, increase the number of iterations.\n",
            "  \"the number of iterations.\", ConvergenceWarning)\n"
          ],
          "name": "stderr"
        }
      ]
    },
    {
      "cell_type": "code",
      "metadata": {
        "id": "Rh4PDSjFVYO-",
        "colab_type": "code",
        "colab": {}
      },
      "source": [
        "estimators = [\n",
        "  (\"random_forest\", forest),\n",
        "  (\"extra_trees\", ex_trees),\n",
        "  # (\"svc\", svc)\n",
        "]"
      ],
      "execution_count": 67,
      "outputs": []
    },
    {
      "cell_type": "code",
      "metadata": {
        "id": "dCnlr7iPXObs",
        "colab_type": "code",
        "colab": {}
      },
      "source": [
        "voting = VotingClassifier(estimators=estimators, voting=\"hard\", n_jobs=-1)"
      ],
      "execution_count": 68,
      "outputs": []
    },
    {
      "cell_type": "code",
      "metadata": {
        "id": "Rk3G8CfVXvA0",
        "colab_type": "code",
        "colab": {
          "base_uri": "https://localhost:8080/",
          "height": 605
        },
        "outputId": "6a2df0d3-ca84-4a30-8a81-e19b75af2d39"
      },
      "source": [
        "voting.fit(X_train,y_train)"
      ],
      "execution_count": 69,
      "outputs": [
        {
          "output_type": "execute_result",
          "data": {
            "text/plain": [
              "VotingClassifier(estimators=[('random_forest',\n",
              "                              RandomForestClassifier(bootstrap=True,\n",
              "                                                     ccp_alpha=0.0,\n",
              "                                                     class_weight=None,\n",
              "                                                     criterion='gini',\n",
              "                                                     max_depth=None,\n",
              "                                                     max_features='auto',\n",
              "                                                     max_leaf_nodes=None,\n",
              "                                                     max_samples=None,\n",
              "                                                     min_impurity_decrease=0.0,\n",
              "                                                     min_impurity_split=None,\n",
              "                                                     min_samples_leaf=1,\n",
              "                                                     min_samples_split=2,\n",
              "                                                     min_weight_fraction_leaf=0.0,\n",
              "                                                     n_estimators=100,\n",
              "                                                     n_jobs=Non...\n",
              "                                                   criterion='gini',\n",
              "                                                   max_depth=None,\n",
              "                                                   max_features='auto',\n",
              "                                                   max_leaf_nodes=None,\n",
              "                                                   max_samples=None,\n",
              "                                                   min_impurity_decrease=0.0,\n",
              "                                                   min_impurity_split=None,\n",
              "                                                   min_samples_leaf=1,\n",
              "                                                   min_samples_split=2,\n",
              "                                                   min_weight_fraction_leaf=0.0,\n",
              "                                                   n_estimators=100,\n",
              "                                                   n_jobs=None, oob_score=False,\n",
              "                                                   random_state=42, verbose=0,\n",
              "                                                   warm_start=False))],\n",
              "                 flatten_transform=True, n_jobs=-1, voting='hard',\n",
              "                 weights=None)"
            ]
          },
          "metadata": {
            "tags": []
          },
          "execution_count": 69
        }
      ]
    },
    {
      "cell_type": "code",
      "metadata": {
        "id": "dAmbLb1IXdkD",
        "colab_type": "code",
        "colab": {
          "base_uri": "https://localhost:8080/",
          "height": 34
        },
        "outputId": "7489ebf8-b479-41f8-ba07-f5a0c75cc8d7"
      },
      "source": [
        "y_pred = voting.predict(X_val)\n",
        "print(f'Accuracy of the voting classifier on val set {accuracy_score(y_pred, y_val)}')"
      ],
      "execution_count": 76,
      "outputs": [
        {
          "output_type": "stream",
          "text": [
            "Accuracy of the voting classifier on val set 0.9669\n"
          ],
          "name": "stdout"
        }
      ]
    },
    {
      "cell_type": "code",
      "metadata": {
        "id": "_lQs10xKXtAO",
        "colab_type": "code",
        "colab": {
          "base_uri": "https://localhost:8080/",
          "height": 34
        },
        "outputId": "c776b849-901c-4c18-eb4f-0cc44ac4ca8b"
      },
      "source": [
        "y_test_pred = voting.predict(X_test)\n",
        "print(f'Accuracy score on the test set {accuracy_score(y_test_pred, y_test)}')"
      ],
      "execution_count": 77,
      "outputs": [
        {
          "output_type": "stream",
          "text": [
            "Accuracy score on the test set 0.9669\n"
          ],
          "name": "stdout"
        }
      ]
    },
    {
      "cell_type": "code",
      "metadata": {
        "id": "c9XChF44aYkf",
        "colab_type": "code",
        "colab": {}
      },
      "source": [
        ""
      ],
      "execution_count": null,
      "outputs": []
    }
  ]
}